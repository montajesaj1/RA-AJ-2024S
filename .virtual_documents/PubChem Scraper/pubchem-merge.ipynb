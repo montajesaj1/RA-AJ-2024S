import pandas as pd


df = pd.read_csv("scraped_with_both_synonyms.csv")
df


df.rename(columns = {'Synonym?': 'Depositor Synonym List', 'Synonym2?':'Regular Synonym List'}, inplace = True) 


df


df['Synonym?'] = df.apply(lambda x: "YES" if x['Depositor Synonym List'] == "YES" or x['Regular Synonym List'] == "YES" else "NO", axis=1)


df['CAS'] = df['CAS'].fillna("No CAS info")
df['Deprecated CAS'] = df['Deprecated CAS'].fillna("No CAS info")
df['Compound/Substance'] = df['Compound/Substance'].fillna("NEITHER")
df['Link'] = df['Link'].fillna("No Link")
df


final_df_csv = df.to_csv('PUBCHEM_SYNONYMS_FLAGGED.csv', index = False)



