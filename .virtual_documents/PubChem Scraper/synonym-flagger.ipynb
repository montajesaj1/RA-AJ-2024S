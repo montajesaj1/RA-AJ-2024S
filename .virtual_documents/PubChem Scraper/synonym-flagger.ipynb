import selenium 
import csv
import re
import pandas as pd

from selenium import webdriver
from selenium.webdriver.common.keys import Keys
from selenium.webdriver.common.by import By
from selenium.webdriver.chrome.service import Service
from webdriver_manager.chrome import ChromeDriverManager
from selenium.webdriver.support.ui import WebDriverWait
from selenium.webdriver.support import expected_conditions as EC
from selenium.common.exceptions import NoSuchElementException, TimeoutException
from selenium.webdriver.chrome.options import Options

import time


df = pd.read_csv("pubchem_longer_wait_synonyms.csv")
df


def setup_webdriver():
    chrome_options = Options()
    chrome_options.add_argument("--headless")
    service = Service(ChromeDriverManager().install())
    driver = webdriver.Chrome(service=service, options=chrome_options)
    return driver

def custom_title_case(s):
    # Find the first occurrence of an alphabetical character
    match = re.search(r'[a-zA-Z]', s)
    if match:
        # Capitalize the found character and lowercase the rest of the string
        first_letter_index = match.start()
        return s[:first_letter_index].lower() + s[first_letter_index].upper() + s[first_letter_index+1:].lower()
    else:
        # Return the lowercase string if no alphabetical character is found
        return s.lower()


from concurrent.futures import ThreadPoolExecutor, TimeoutError

def search_for_synonym(synonym_elements, comparisons, limit=30):
    # Iterate through elements to find a match, but stop after 'limit' comparisons
    for count, element in enumerate(synonym_elements, start=1):
        if element.text.strip().lower() in comparisons:
            return True  # Found a match
        if count >= limit:
            break  # Stop searching after 'limit' comparisons
    return False  # No match found within the first 'limit' elements

def synonym_checker(name, parsed, link, syn, driver):
    synonym = 2  # Default to an error state
    
    if syn != "YES":
        if not pd.isna(link) and 'pubchem' in str(link):
            try:
                driver.get(link)
                WebDriverWait(driver, 10).until(
                    EC.visibility_of_all_elements_located((By.CSS_SELECTOR, 'section#Synonyms ul'))
                )
                synonym_elements = driver.find_elements(By.CSS_SELECTOR, 'section#Synonyms ul li')
                
                parsed_hyphenated = re.sub(r'(\d) (\w)', r'\1-\2', parsed)
                first_capitalised_h = custom_title_case(parsed_hyphenated)
                first_capitalised_n = custom_title_case(name)
                first_capitalised_p = custom_title_case(parsed)
                
                comparisons = {name.lower(), parsed.lower(), name.upper(), parsed.upper(), name.title(), parsed.title(),
                               parsed_hyphenated.lower(), parsed_hyphenated.upper(), parsed_hyphenated.title(),
                               first_capitalised_h.lower(), first_capitalised_n.lower(), first_capitalised_p.lower()}
                
                synonym_found = search_for_synonym(synonym_elements, comparisons, limit=30)
                synonym = 0 if synonym_found else 1
        
            except TimeoutException:
                print("Timed out during web operations.")
                synonym = 2
            except Exception as e:
                print(f"An unexpected error occurred: {e}")
                synonym = 2
        else:
            print(f"Invalid link for {name}.")
            return synonym
    else:
        synonym = 0
    
    print(f"{name}: {synonym}")
    return synonym



def scan(df):
    synonym_flags = []
    driver = setup_webdriver()  # Initialize the WebDriver once

    try:
        for row in df.index:
            check = synonym_checker(df['Original Molecule'][row], df['Parsed Molecule'][row], df['Link'][row], df['Synonym?'][row], driver)
            if check == 1:
                synonym_flags.append("NO")
            elif check == 0:
                synonym_flags.append("YES")
            else:
                synonym_flags.append("MISSING")

            print(f"remaining: {2904 - len(synonym_flags)}")
                
    finally:
        driver.quit()  # Make sure to quit the WebDriver

    return synonym_flags   


list = scan(df)


df['Synonym2?'] = list


df


non_equal_count = (df["Synonym?"] != df["Synonym2?"]).sum()
non_equal_count


synonyms_df = df[df["Synonym2?"] == "YES"]
synonyms_df.describe()


final_df_csv = df.to_csv('missing_eight_with_both_synonyms.csv', index = False)
