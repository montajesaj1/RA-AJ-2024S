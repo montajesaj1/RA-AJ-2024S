import csv

def compare_csv(file1, file2):
    with open(file1, 'r') as f1, open(file2, 'r') as f2:
        reader1 = csv.reader(f1)
        reader2 = csv.reader(f2)

        for row1, row2 in zip(reader1, reader2):
            if row1 != row2:
                return False

        # Check if both files have the same number of rows
        if len(list(reader1)) != len(list(reader2)):
            return False

    return True

# Example usage
file1 = 'corrected_pubchem_data_final_2.csv'
file2 = 'corrected_pubchem_data_final.csv'

if compare_csv(file1, file2):
    print("The CSV files are identical.")
else:
    print("The CSV files are not identical.")



