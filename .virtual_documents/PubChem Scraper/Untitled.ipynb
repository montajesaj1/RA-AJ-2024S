import pandas as pd


df1 = pd.read_csv("pubchem_longer_wait.csv")
df2 = pd.read_csv("PUBCHEM_SYNONYMS_FLAGGED.csv")


df1


df2.head(3)


added = df2.drop(columns=['Original Molecule', 'Parsed Molecule', 'Link', 'Result Type', 'CAS', 'Deprecated CAS', 'Compound/Substance'])


final = pd.concat([df1, added], axis=1)


final.head(50)


final.to_csv("pubchem_longer_wait_synonyms.csv", index=False)



