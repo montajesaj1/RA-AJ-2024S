import pandas as pd


df = pd.read_csv("pubchem_longer_wait.csv")
df


df['CAS'] = df['CAS'].fillna("No CAS info")
df['Deprecated CAS'] = df['Deprecated CAS'].fillna("No CAS info")
df['Compound/Substance'] = df['Compound/Substance'].fillna("NEITHER")
df['Link'] = df['Link'].fillna("No Link")
df


final_df_csv = df.to_csv('pubchem_longer_wait_flagged.csv', index = False)


df[df["Original Molecule"] == "FAT"]



