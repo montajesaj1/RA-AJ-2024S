import selenium 
import csv
import re
import pandas as pd

from selenium import webdriver
from selenium.webdriver.common.keys import Keys
from selenium.webdriver.common.by import By
from selenium.webdriver.chrome.service import Service
from webdriver_manager.chrome import ChromeDriverManager
from selenium.webdriver.support.ui import WebDriverWait
from selenium.webdriver.support import expected_conditions as EC
from selenium.common.exceptions import NoSuchElementException, TimeoutException
from selenium.webdriver.chrome.options import Options

import time


df = pd.read_csv("pubchem_longer_wait.csv")
df = df.head(5)


def setup_webdriver():
    chrome_options = Options()
    chrome_options.add_argument("--headless")
    service = Service(ChromeDriverManager().install())
    driver = webdriver.Chrome(service=service, options=chrome_options)
    return driver

def custom_title_case(s):
    # Find the first occurrence of an alphabetical character
    match = re.search(r'[a-zA-Z]', s)
    if match:
        # Capitalize the found character and lowercase the rest of the string
        first_letter_index = match.start()
        return s[:first_letter_index].lower() + s[first_letter_index].upper() + s[first_letter_index+1:].lower()
    else:
        # Return the lowercase string if no alphabetical character is found
        return s.lower()


from concurrent.futures import ThreadPoolExecutor, TimeoutError

def search_for_synonym(synonym_elements, comparisons):
    # Iterate through elements to find a match
    for element in synonym_elements:
        element_text = element.text.strip().lower()
        if element_text in comparisons:
            return True  # Found a match
    return False  # No match found

def synonym_checker(name, parsed, link, driver):
    synonym = 2  # Default to an error state

    if not pd.isna(link) and 'pubchem' in str(link):
        try:
            driver.get(link)
            WebDriverWait(driver, 3).until(
                EC.visibility_of_all_elements_located((By.CSS_SELECTOR, 'section#Depositor-Supplied-Synonyms a[data-action="content-link"]'))
            )
            synonym_elements = driver.find_elements(By.CSS_SELECTOR, 'section#Depositor-Supplied-Synonyms a[data-action="content-link"]')
    
            parsed_hyphenated = re.sub(r'(\d) (\w)', r'\1-\2', parsed)
            first_capitalised_h = custom_title_case(parsed_hyphenated)
            first_capitalised_n = custom_title_case(name)
            first_capitalised_p = custom_title_case(parsed)
            
            comparisons = {name.lower(), parsed.lower(), name.upper(), parsed.upper(), name.title(), parsed.title(),
                           parsed_hyphenated.lower(), parsed_hyphenated.upper(), parsed_hyphenated.title(),
                           first_capitalised_h.lower(), first_capitalised_n.lower(), first_capitalised_p.lower()}
            
            with ThreadPoolExecutor(max_workers=1) as executor:
                future = executor.submit(search_for_synonym, synonym_elements, comparisons)
                try:
                    synonym_found = future.result(timeout=30)  # Set timeout to 10 seconds
                    synonym = 0 if synonym_found else 1
                except TimeoutError:
                    print("Timed out waiting for synonym match.")
                    synonym = 2  # Or another value to indicate a timeout occurred
    
        except (NoSuchElementException, TimeoutException):
            synonym = 2
        except Exception as e:
            print(f"An unexpected error occurred: {e}")
            synonym = 2
    else:
        print(synonym)
        return synonym

    print(synonym)
    return synonym


def scan(df):
    synonym_flags = []
    driver = setup_webdriver()  # Initialize the WebDriver once

    try:
        for row in df.index:
            check = synonym_checker(df['Original Molecule'][row], df['Parsed Molecule'][row], df['Link'][row], driver)
            if check == 1:
                synonym_flags.append("NO")
            elif check == 0:
                synonym_flags.append("YES")
            else:
                synonym_flags.append("MISSING")

            print(f"remaining: {2904 - len(synonym_flags)}")
                
    finally:
        driver.quit()  # Make sure to quit the WebDriver

    return synonym_flags   


list = scan(df)


df['Synonym?'] = list


df.tail(10)


df


final_df_csv = df.to_csv('scraped_pubchem_data_with_synonyms.csv', index = False)






