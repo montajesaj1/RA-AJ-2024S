import pandas as pd


df1 = pd.read_csv("missing_eight.csv")
df2 = pd.read_csv("corrected_pubchem_data_final_3.csv", index_col=[0])


df1


df2


import pandas as pd

merged_df = pd.merge(df2, df1, on=['Original Molecule', 'Parsed Molecule'], how='left', suffixes=('_df2', '_df1'))

# Drop unnecessary columns from df1 (suffix _df1) and rename columns from df2 (suffix _df2)
merged_df.drop(columns=[col for col in merged_df.columns if '_df1' in col], inplace=True)
merged_df.rename(columns={col: col.replace('_df2', '') for col in merged_df.columns}, inplace=True)

# Display the merged dataframe
merged_df


merged_df.to_csv('final_corrected_pubchem.csv', index=False)



