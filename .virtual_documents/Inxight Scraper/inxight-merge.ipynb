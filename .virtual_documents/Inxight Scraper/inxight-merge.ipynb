import pandas as pd

df1 = pd.read_csv("inxight_data_1.csv")
df2 = pd.read_csv("inxight_data_2.csv")


df1.drop(df1.columns[0], axis=1, inplace=True)
df1


df2.drop(df2.columns[0], axis=1, inplace=True)
df2


merged_df = df1.merge(df2, on='CAS', how='left', suffixes=('', '_update'))

# Update df1 columns with df2 values where they are not null and exclude 'CAS' from being overwritten
for column in df1.columns:  # Iterate through original df1 columns
    if column != 'CAS':  # Exclude 'CAS' column to ensure it's not overwritten
        # Use df2 values to update df1 where available; otherwise keep df1's original data
        merged_df[column] = merged_df[column + '_update'].combine_first(merged_df[column])

# Drop the '_update' columns as they are no longer needed after merging and updating
merged_df.drop(columns=[col for col in merged_df if col.endswith('_update')], inplace=True)


merged_df


print("Duplicates in df1:", df1['CAS'].duplicated().sum())
print("Duplicates in df2:", df2['CAS'].duplicated().sum())


merged_df.to_csv("inxight_data.csv")


columns_to_check = [
    'URL',
    'Highest Development Event Status and Year',
    'Highest Development Event Source ID',
    'Highest Development Event Source URL',
    'Earliest Approved Event Status and Year',
    'Earliest Approved Event Source ID',
    'Earliest Approved Event Source URL',
    'conditions',
    'phases'
]


filtered_na = merged_df[merged_df[columns_to_check].isna().all(axis=1)]
filtered_na.head(60)



