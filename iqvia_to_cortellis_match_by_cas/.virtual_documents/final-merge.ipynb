import pandas as pd

df_1 = pd.read_csv("final_cleaned.csv")
df_2 = pd.read_csv("merged_test.csv")

appended = pd.concat([df_1, df_2])
appended


grouped = appended.sort_values(by=['molecule', 'crp', 'intprd'])


grouped


grouped['match_type_ncas'] = grouped['cas'].apply(lambda x: len(x.split(', ')))

# Rename 'drugid' to 'matched_drugid'
grouped.rename(columns={'drugid': 'matched_drugid'}, inplace=True)
grouped


grouped.head(60)


grouped.to_csv('iqvia_drugs_matched_to_pubchem.csv', index=False)



