{
 "cells": [
  {
   "cell_type": "markdown",
   "id": "8eacc5c8-3164-4a5b-a47b-50f54aedd9ba",
   "metadata": {},
   "source": [
    "# Libraries"
   ]
  },
  {
   "cell_type": "code",
   "execution_count": 1,
   "id": "23aa6e7d-705e-41fe-95b6-3c64f0e8298b",
   "metadata": {},
   "outputs": [],
   "source": [
    "import selenium \n",
    "import csv\n",
    "import re\n",
    "import pandas as pd\n",
    "import ast\n",
    "import numpy as np\n",
    "import math\n",
    "\n",
    "from selenium import webdriver\n",
    "from selenium.webdriver.common.keys import Keys\n",
    "from selenium.webdriver.common.by import By\n",
    "from selenium.webdriver.chrome.service import Service\n",
    "from webdriver_manager.chrome import ChromeDriverManager\n",
    "from selenium.webdriver.support.ui import WebDriverWait\n",
    "from selenium.webdriver.support import expected_conditions as EC\n",
    "from selenium.common.exceptions import NoSuchElementException, TimeoutException\n",
    "from selenium.webdriver.chrome.options import Options\n",
    "\n",
    "import time"
   ]
  },
  {
   "cell_type": "markdown",
   "id": "76a5d544-bf3d-4684-89c9-3d32fb44796f",
   "metadata": {},
   "source": [
    "# Parser\n",
    "- Convert original non-queryable names to queryable."
   ]
  },
  {
   "cell_type": "code",
   "execution_count": 2,
   "id": "00c0de47-2e94-4998-b13f-5592741d1c2d",
   "metadata": {
    "editable": true,
    "slideshow": {
     "slide_type": ""
    },
    "tags": []
   },
   "outputs": [
    {
     "data": {
      "text/html": [
       "<div>\n",
       "<style scoped>\n",
       "    .dataframe tbody tr th:only-of-type {\n",
       "        vertical-align: middle;\n",
       "    }\n",
       "\n",
       "    .dataframe tbody tr th {\n",
       "        vertical-align: top;\n",
       "    }\n",
       "\n",
       "    .dataframe thead th {\n",
       "        text-align: right;\n",
       "    }\n",
       "</style>\n",
       "<table border=\"1\" class=\"dataframe\">\n",
       "  <thead>\n",
       "    <tr style=\"text-align: right;\">\n",
       "      <th></th>\n",
       "      <th>updated_molecule</th>\n",
       "    </tr>\n",
       "  </thead>\n",
       "  <tbody>\n",
       "    <tr>\n",
       "      <th>0</th>\n",
       "      <td>RADIUM RA-223 CATION</td>\n",
       "    </tr>\n",
       "    <tr>\n",
       "      <th>1</th>\n",
       "      <td>FERUMOXYTOL NON-STOICHIOMETRIC MAGNETITE</td>\n",
       "    </tr>\n",
       "    <tr>\n",
       "      <th>2</th>\n",
       "      <td>STRONTIUM CATION SR-89</td>\n",
       "    </tr>\n",
       "    <tr>\n",
       "      <th>3</th>\n",
       "      <td>RUBIDIUM CATION RB-82</td>\n",
       "    </tr>\n",
       "    <tr>\n",
       "      <th>4</th>\n",
       "      <td>THALLOUS CATION TL-201</td>\n",
       "    </tr>\n",
       "    <tr>\n",
       "      <th>...</th>\n",
       "      <td>...</td>\n",
       "    </tr>\n",
       "    <tr>\n",
       "      <th>1184</th>\n",
       "      <td>INFLUENZA A VIRUS A/CALIFORNIA/7/2009 (H1N1)-L...</td>\n",
       "    </tr>\n",
       "    <tr>\n",
       "      <th>1185</th>\n",
       "      <td>INFLUENZA A VIRUS A/CALIFORNIA/7/2009 (H1N1)-L...</td>\n",
       "    </tr>\n",
       "    <tr>\n",
       "      <th>1186</th>\n",
       "      <td>NINTEDANIB ESYLATE HEMIHYDRATE</td>\n",
       "    </tr>\n",
       "    <tr>\n",
       "      <th>1187</th>\n",
       "      <td>INDIUM IN-111 IBRITUMOMAB TIUXETAN</td>\n",
       "    </tr>\n",
       "    <tr>\n",
       "      <th>1188</th>\n",
       "      <td>ACP-001</td>\n",
       "    </tr>\n",
       "  </tbody>\n",
       "</table>\n",
       "<p>1189 rows × 1 columns</p>\n",
       "</div>"
      ],
      "text/plain": [
       "                                       updated_molecule\n",
       "0                                  RADIUM RA-223 CATION\n",
       "1              FERUMOXYTOL NON-STOICHIOMETRIC MAGNETITE\n",
       "2                                STRONTIUM CATION SR-89\n",
       "3                                 RUBIDIUM CATION RB-82\n",
       "4                                THALLOUS CATION TL-201\n",
       "...                                                 ...\n",
       "1184  INFLUENZA A VIRUS A/CALIFORNIA/7/2009 (H1N1)-L...\n",
       "1185  INFLUENZA A VIRUS A/CALIFORNIA/7/2009 (H1N1)-L...\n",
       "1186                     NINTEDANIB ESYLATE HEMIHYDRATE\n",
       "1187                 INDIUM IN-111 IBRITUMOMAB TIUXETAN\n",
       "1188                                            ACP-001\n",
       "\n",
       "[1189 rows x 1 columns]"
      ]
     },
     "execution_count": 2,
     "metadata": {},
     "output_type": "execute_result"
    }
   ],
   "source": [
    "molecules_df = pd.read_csv('margaret_missing_cas.csv')\n",
    "molecules_arr = molecules_df['preferred'].tolist()\n",
    "common_arr = molecules_df['common'].tolist()\n",
    "\n",
    "common_arr = [ast.literal_eval(s) for s in common_arr]\n",
    "\n",
    "pattern = re.compile(r'(\\d)-(\\d)')\n",
    "pattern2 = re.compile(r'_')\n",
    "pattern3 = re.compile(r'(\\d)-([a-zA-Z])')\n",
    "\n",
    "# List to store updated molecule names\n",
    "updated_molecules_arr = []\n",
    "acc = 0\n",
    "\n",
    "for molecule in molecules_arr:\n",
    "    if isinstance(molecule, float) and (np.isnan(molecule) or math.isnan(molecule)):\n",
    "        if common_arr[acc] == []:\n",
    "            molecule_str = 'missing'\n",
    "        else:\n",
    "            molecule_str = common_arr[acc][0]\n",
    "    \n",
    "    else:\n",
    "        molecule_str = molecule\n",
    "    \n",
    "    updated_molecule = pattern.sub(r'\\1,\\2', molecule_str)\n",
    "    updated_molecule = pattern2.sub(r' ', updated_molecule)\n",
    "    updated_molecule = pattern3.sub(r'\\1 \\2', updated_molecule)\n",
    "    updated_molecules_arr.append(updated_molecule)\n",
    "    \n",
    "    acc += 1\n",
    "\n",
    "updated_molecules_df = pd.DataFrame(updated_molecules_arr, columns=['updated_molecule'])\n",
    "updated_molecules_df"
   ]
  },
  {
   "cell_type": "code",
   "execution_count": 3,
   "id": "7c5d17a5-fbad-408e-b107-7b0129de6caf",
   "metadata": {},
   "outputs": [
    {
     "data": {
      "text/plain": [
       "updated_molecule    missing\n",
       "Name: 238, dtype: object"
      ]
     },
     "execution_count": 3,
     "metadata": {},
     "output_type": "execute_result"
    }
   ],
   "source": [
    "updated_molecules_df.iloc[238]"
   ]
  },
  {
   "cell_type": "markdown",
   "id": "fdfee982-d779-402d-98d3-d38bb4a43517",
   "metadata": {},
   "source": [
    "# PubChem Query Result Scraper"
   ]
  },
  {
   "cell_type": "code",
   "execution_count": 4,
   "id": "71f3ed7b-d96d-4f4c-947a-b4e1d4bf056c",
   "metadata": {},
   "outputs": [],
   "source": [
    "def get_pubchem_url(chemical):\n",
    "    return f'https://pubchem.ncbi.nlm.nih.gov/#query={chemical}'\n",
    "\n",
    "def setup_webdriver():\n",
    "    chrome_options = Options()\n",
    "    chrome_options.add_argument(\"--headless\")\n",
    "    service = Service(ChromeDriverManager().install())\n",
    "    driver = webdriver.Chrome(service=service, options=chrome_options)\n",
    "    return driver\n",
    "\n",
    "def get_best_match(molecule, driver):\n",
    "    url = \"N/A\"  # Default in case of failure\n",
    "    result_type = \"Not Found\"  # Default result type\n",
    "\n",
    "    driver.get(get_pubchem_url(molecule))\n",
    "    try:\n",
    "        WebDriverWait(driver, 6).until(EC.visibility_of_element_located((By.CSS_SELECTOR, 'a[data-action=\"featured-result-link\"], a[data-action=\"result-link\"]')))\n",
    "        elements = driver.find_elements(By.CSS_SELECTOR, 'a[data-action=\"featured-result-link\"], a[data-action=\"result-link\"]')\n",
    "        if elements:\n",
    "            element = elements[0]\n",
    "            url = element.get_attribute('href')\n",
    "            action = element.get_attribute('data-action')\n",
    "            if action == 'featured-result-link':\n",
    "                result_type = 'FEATURED'\n",
    "            else:\n",
    "                result_type = 'RELEVANT'\n",
    "    except (NoSuchElementException, TimeoutException):\n",
    "        pass  # URL remains \"N/A\" and result_type remains \"Not Found\" if no match is found or if there's a timeout\n",
    "\n",
    "    return molecule, url, result_type\n",
    "\n",
    "def get_best_matches(parsed_molecules):\n",
    "    best_matches = []\n",
    "    driver = setup_webdriver()  # Initialize the WebDriver once\n",
    "    try:\n",
    "        for parsed_molecule in parsed_molecules:\n",
    "            molecule, url, result_type = get_best_match(parsed_molecule, driver)\n",
    "            best_matches.append((molecule, url, result_type))\n",
    "    finally:\n",
    "        driver.quit()  # Make sure to quit the WebDriver\n",
    "\n",
    "    return best_matches"
   ]
  },
  {
   "cell_type": "code",
   "execution_count": 5,
   "id": "1969252e-ca9d-4986-b5f3-fafb0d695d82",
   "metadata": {},
   "outputs": [
    {
     "name": "stderr",
     "output_type": "stream",
     "text": [
      "/bin/sh: 1: google-chrome: Permission denied\n",
      "/bin/sh: 1: google-chrome-stable: Permission denied\n",
      "/bin/sh: 1: google-chrome-beta: Permission denied\n",
      "/bin/sh: 1: google-chrome-dev: Permission denied\n",
      "/bin/sh: 1: google-chrome: Permission denied\n",
      "/bin/sh: 1: google-chrome-stable: Permission denied\n",
      "/bin/sh: 1: google-chrome-beta: Permission denied\n",
      "/bin/sh: 1: google-chrome-dev: Permission denied\n"
     ]
    },
    {
     "ename": "AttributeError",
     "evalue": "'NoneType' object has no attribute 'split'",
     "output_type": "error",
     "traceback": [
      "\u001b[0;31m---------------------------------------------------------------------------\u001b[0m",
      "\u001b[0;31mAttributeError\u001b[0m                            Traceback (most recent call last)",
      "Cell \u001b[0;32mIn[5], line 1\u001b[0m\n\u001b[0;32m----> 1\u001b[0m best_matches \u001b[38;5;241m=\u001b[39m \u001b[43mget_best_matches\u001b[49m\u001b[43m(\u001b[49m\u001b[43mupdated_molecules_arr\u001b[49m\u001b[43m)\u001b[49m\n",
      "Cell \u001b[0;32mIn[4], line 34\u001b[0m, in \u001b[0;36mget_best_matches\u001b[0;34m(parsed_molecules)\u001b[0m\n\u001b[1;32m     32\u001b[0m \u001b[38;5;28;01mdef\u001b[39;00m \u001b[38;5;21mget_best_matches\u001b[39m(parsed_molecules):\n\u001b[1;32m     33\u001b[0m     best_matches \u001b[38;5;241m=\u001b[39m []\n\u001b[0;32m---> 34\u001b[0m     driver \u001b[38;5;241m=\u001b[39m \u001b[43msetup_webdriver\u001b[49m\u001b[43m(\u001b[49m\u001b[43m)\u001b[49m  \u001b[38;5;66;03m# Initialize the WebDriver once\u001b[39;00m\n\u001b[1;32m     35\u001b[0m     \u001b[38;5;28;01mtry\u001b[39;00m:\n\u001b[1;32m     36\u001b[0m         \u001b[38;5;28;01mfor\u001b[39;00m parsed_molecule \u001b[38;5;129;01min\u001b[39;00m parsed_molecules:\n",
      "Cell \u001b[0;32mIn[4], line 7\u001b[0m, in \u001b[0;36msetup_webdriver\u001b[0;34m()\u001b[0m\n\u001b[1;32m      5\u001b[0m chrome_options \u001b[38;5;241m=\u001b[39m Options()\n\u001b[1;32m      6\u001b[0m chrome_options\u001b[38;5;241m.\u001b[39madd_argument(\u001b[38;5;124m\"\u001b[39m\u001b[38;5;124m--headless\u001b[39m\u001b[38;5;124m\"\u001b[39m)\n\u001b[0;32m----> 7\u001b[0m service \u001b[38;5;241m=\u001b[39m Service(\u001b[43mChromeDriverManager\u001b[49m\u001b[43m(\u001b[49m\u001b[43m)\u001b[49m\u001b[38;5;241;43m.\u001b[39;49m\u001b[43minstall\u001b[49m\u001b[43m(\u001b[49m\u001b[43m)\u001b[49m)\n\u001b[1;32m      8\u001b[0m driver \u001b[38;5;241m=\u001b[39m webdriver\u001b[38;5;241m.\u001b[39mChrome(service\u001b[38;5;241m=\u001b[39mservice, options\u001b[38;5;241m=\u001b[39mchrome_options)\n\u001b[1;32m      9\u001b[0m \u001b[38;5;28;01mreturn\u001b[39;00m driver\n",
      "File \u001b[0;32m~/projects/RA-AJ-2024S/venv/lib/python3.11/site-packages/webdriver_manager/chrome.py:40\u001b[0m, in \u001b[0;36mChromeDriverManager.install\u001b[0;34m(self)\u001b[0m\n\u001b[1;32m     39\u001b[0m \u001b[38;5;28;01mdef\u001b[39;00m \u001b[38;5;21minstall\u001b[39m(\u001b[38;5;28mself\u001b[39m) \u001b[38;5;241m-\u001b[39m\u001b[38;5;241m>\u001b[39m \u001b[38;5;28mstr\u001b[39m:\n\u001b[0;32m---> 40\u001b[0m     driver_path \u001b[38;5;241m=\u001b[39m \u001b[38;5;28;43mself\u001b[39;49m\u001b[38;5;241;43m.\u001b[39;49m\u001b[43m_get_driver_binary_path\u001b[49m\u001b[43m(\u001b[49m\u001b[38;5;28;43mself\u001b[39;49m\u001b[38;5;241;43m.\u001b[39;49m\u001b[43mdriver\u001b[49m\u001b[43m)\u001b[49m\n\u001b[1;32m     41\u001b[0m     os\u001b[38;5;241m.\u001b[39mchmod(driver_path, \u001b[38;5;241m0o755\u001b[39m)\n\u001b[1;32m     42\u001b[0m     \u001b[38;5;28;01mreturn\u001b[39;00m driver_path\n",
      "File \u001b[0;32m~/projects/RA-AJ-2024S/venv/lib/python3.11/site-packages/webdriver_manager/core/manager.py:40\u001b[0m, in \u001b[0;36mDriverManager._get_driver_binary_path\u001b[0;34m(self, driver)\u001b[0m\n\u001b[1;32m     37\u001b[0m     \u001b[38;5;28;01mreturn\u001b[39;00m binary_path\n\u001b[1;32m     39\u001b[0m os_type \u001b[38;5;241m=\u001b[39m \u001b[38;5;28mself\u001b[39m\u001b[38;5;241m.\u001b[39mget_os_type()\n\u001b[0;32m---> 40\u001b[0m file \u001b[38;5;241m=\u001b[39m \u001b[38;5;28mself\u001b[39m\u001b[38;5;241m.\u001b[39m_download_manager\u001b[38;5;241m.\u001b[39mdownload_file(\u001b[43mdriver\u001b[49m\u001b[38;5;241;43m.\u001b[39;49m\u001b[43mget_driver_download_url\u001b[49m\u001b[43m(\u001b[49m\u001b[43mos_type\u001b[49m\u001b[43m)\u001b[49m)\n\u001b[1;32m     41\u001b[0m binary_path \u001b[38;5;241m=\u001b[39m \u001b[38;5;28mself\u001b[39m\u001b[38;5;241m.\u001b[39m_cache_manager\u001b[38;5;241m.\u001b[39msave_file_to_cache(driver, file)\n\u001b[1;32m     42\u001b[0m \u001b[38;5;28;01mreturn\u001b[39;00m binary_path\n",
      "File \u001b[0;32m~/projects/RA-AJ-2024S/venv/lib/python3.11/site-packages/webdriver_manager/drivers/chrome.py:32\u001b[0m, in \u001b[0;36mChromeDriver.get_driver_download_url\u001b[0;34m(self, os_type)\u001b[0m\n\u001b[1;32m     31\u001b[0m \u001b[38;5;28;01mdef\u001b[39;00m \u001b[38;5;21mget_driver_download_url\u001b[39m(\u001b[38;5;28mself\u001b[39m, os_type):\n\u001b[0;32m---> 32\u001b[0m     driver_version_to_download \u001b[38;5;241m=\u001b[39m \u001b[38;5;28;43mself\u001b[39;49m\u001b[38;5;241;43m.\u001b[39;49m\u001b[43mget_driver_version_to_download\u001b[49m\u001b[43m(\u001b[49m\u001b[43m)\u001b[49m\n\u001b[1;32m     33\u001b[0m     \u001b[38;5;66;03m# For Mac ARM CPUs after version 106.0.5249.61 the format of OS type changed\u001b[39;00m\n\u001b[1;32m     34\u001b[0m     \u001b[38;5;66;03m# to more unified \"mac_arm64\". For newer versions, it'll be \"mac_arm64\"\u001b[39;00m\n\u001b[1;32m     35\u001b[0m     \u001b[38;5;66;03m# by default, for lower versions we replace \"mac_arm64\" to old format - \"mac64_m1\".\u001b[39;00m\n\u001b[1;32m     36\u001b[0m     \u001b[38;5;28;01mif\u001b[39;00m version\u001b[38;5;241m.\u001b[39mparse(driver_version_to_download) \u001b[38;5;241m<\u001b[39m version\u001b[38;5;241m.\u001b[39mparse(\u001b[38;5;124m\"\u001b[39m\u001b[38;5;124m106.0.5249.61\u001b[39m\u001b[38;5;124m\"\u001b[39m):\n",
      "File \u001b[0;32m~/projects/RA-AJ-2024S/venv/lib/python3.11/site-packages/webdriver_manager/core/driver.py:48\u001b[0m, in \u001b[0;36mDriver.get_driver_version_to_download\u001b[0;34m(self)\u001b[0m\n\u001b[1;32m     45\u001b[0m \u001b[38;5;28;01mif\u001b[39;00m \u001b[38;5;28mself\u001b[39m\u001b[38;5;241m.\u001b[39m_driver_version_to_download:\n\u001b[1;32m     46\u001b[0m     \u001b[38;5;28;01mreturn\u001b[39;00m \u001b[38;5;28mself\u001b[39m\u001b[38;5;241m.\u001b[39m_driver_version_to_download\n\u001b[0;32m---> 48\u001b[0m \u001b[38;5;28;01mreturn\u001b[39;00m \u001b[38;5;28;43mself\u001b[39;49m\u001b[38;5;241;43m.\u001b[39;49m\u001b[43mget_latest_release_version\u001b[49m\u001b[43m(\u001b[49m\u001b[43m)\u001b[49m\n",
      "File \u001b[0;32m~/projects/RA-AJ-2024S/venv/lib/python3.11/site-packages/webdriver_manager/drivers/chrome.py:64\u001b[0m, in \u001b[0;36mChromeDriver.get_latest_release_version\u001b[0;34m(self)\u001b[0m\n\u001b[1;32m     62\u001b[0m     \u001b[38;5;28;01mreturn\u001b[39;00m determined_browser_version\n\u001b[1;32m     63\u001b[0m \u001b[38;5;66;03m# Remove the build version (the last segment) from determined_browser_version for version < 113\u001b[39;00m\n\u001b[0;32m---> 64\u001b[0m determined_browser_version \u001b[38;5;241m=\u001b[39m \u001b[38;5;124m\"\u001b[39m\u001b[38;5;124m.\u001b[39m\u001b[38;5;124m\"\u001b[39m\u001b[38;5;241m.\u001b[39mjoin(\u001b[43mdetermined_browser_version\u001b[49m\u001b[38;5;241;43m.\u001b[39;49m\u001b[43msplit\u001b[49m(\u001b[38;5;124m\"\u001b[39m\u001b[38;5;124m.\u001b[39m\u001b[38;5;124m\"\u001b[39m)[:\u001b[38;5;241m3\u001b[39m])\n\u001b[1;32m     65\u001b[0m latest_release_url \u001b[38;5;241m=\u001b[39m (\n\u001b[1;32m     66\u001b[0m     \u001b[38;5;28mself\u001b[39m\u001b[38;5;241m.\u001b[39m_latest_release_url\n\u001b[1;32m     67\u001b[0m     \u001b[38;5;28;01mif\u001b[39;00m (determined_browser_version \u001b[38;5;129;01mis\u001b[39;00m \u001b[38;5;28;01mNone\u001b[39;00m)\n\u001b[1;32m     68\u001b[0m     \u001b[38;5;28;01melse\u001b[39;00m \u001b[38;5;124mf\u001b[39m\u001b[38;5;124m\"\u001b[39m\u001b[38;5;132;01m{\u001b[39;00m\u001b[38;5;28mself\u001b[39m\u001b[38;5;241m.\u001b[39m_latest_release_url\u001b[38;5;132;01m}\u001b[39;00m\u001b[38;5;124m_\u001b[39m\u001b[38;5;132;01m{\u001b[39;00mdetermined_browser_version\u001b[38;5;132;01m}\u001b[39;00m\u001b[38;5;124m\"\u001b[39m\n\u001b[1;32m     69\u001b[0m )\n\u001b[1;32m     70\u001b[0m resp \u001b[38;5;241m=\u001b[39m \u001b[38;5;28mself\u001b[39m\u001b[38;5;241m.\u001b[39m_http_client\u001b[38;5;241m.\u001b[39mget(url\u001b[38;5;241m=\u001b[39mlatest_release_url)\n",
      "\u001b[0;31mAttributeError\u001b[0m: 'NoneType' object has no attribute 'split'"
     ]
    }
   ],
   "source": [
    "best_matches = get_best_matches(updated_molecules_arr)"
   ]
  },
  {
   "cell_type": "code",
   "execution_count": null,
   "id": "1f043ce1-e6e3-41cb-93b4-6f525c52b15d",
   "metadata": {},
   "outputs": [],
   "source": [
    "df = pd.DataFrame(best_matches, columns=['Molecule', 'Link', 'Result Type'])"
   ]
  },
  {
   "cell_type": "code",
   "execution_count": null,
   "id": "dcfbb2ac-a195-4ef4-9eb6-068c462f56d1",
   "metadata": {
    "editable": true,
    "slideshow": {
     "slide_type": ""
    },
    "tags": []
   },
   "outputs": [],
   "source": [
    "df"
   ]
  },
  {
   "cell_type": "code",
   "execution_count": null,
   "id": "b54c4fcf-9d86-41f0-a1d5-64bb86710b4f",
   "metadata": {
    "editable": true,
    "slideshow": {
     "slide_type": ""
    },
    "tags": []
   },
   "outputs": [],
   "source": [
    "# df_merged = pd.concat([molecules_df, df], ignore_index=True, sort=False, axis=1)\n",
    "df_merged = df\n",
    "df_merged.columns = ['Parsed', 'Link', 'Result Type']\n",
    "df_merged"
   ]
  },
  {
   "cell_type": "code",
   "execution_count": null,
   "id": "b4c4f657-e9ce-49b7-9d44-a861027de618",
   "metadata": {
    "editable": true,
    "slideshow": {
     "slide_type": ""
    },
    "tags": []
   },
   "outputs": [],
   "source": [
    "df_merged_csv = df_merged.to_csv('FINAL_MOLECULE_LINKS.csv', index = False) "
   ]
  },
  {
   "cell_type": "code",
   "execution_count": null,
   "id": "a589714d-4057-4147-8ee9-cc79bb718afc",
   "metadata": {
    "editable": true,
    "scrolled": true,
    "slideshow": {
     "slide_type": ""
    },
    "tags": []
   },
   "outputs": [],
   "source": [
    "links_arr = df_merged[\"Link\"].tolist()\n",
    "links_arr"
   ]
  },
  {
   "cell_type": "markdown",
   "id": "5a0e34f8-83b4-4b1e-b42d-e7c7ac9ea228",
   "metadata": {},
   "source": [
    "# PubChem CAS Scraper"
   ]
  },
  {
   "cell_type": "code",
   "execution_count": null,
   "id": "ae905217-56fd-46c9-92db-fb1e8ea1178d",
   "metadata": {
    "editable": true,
    "slideshow": {
     "slide_type": ""
    },
    "tags": []
   },
   "outputs": [],
   "source": [
    "def get_cas_numbers(link, driver):\n",
    "    cas_numbers = {\"CAS\": \"N/A\", \"Deprecated CAS\": \"N/A\"}  # Default in case of failure\n",
    "\n",
    "    try:\n",
    "        driver.get(link)\n",
    "        # Wait and locate the CAS number section\n",
    "        try:\n",
    "            cas_elements = WebDriverWait(driver, 10).until(EC.visibility_of_all_elements_located((By.CSS_SELECTOR, 'section#CAS div.break-words')))\n",
    "            cas_numbers[\"CAS\"] = ', '.join([el.text.strip() for el in cas_elements])\n",
    "        except (NoSuchElementException, TimeoutException):\n",
    "            cas_numbers[\"CAS\"] = \"N/A\"  # CAS number not found\n",
    "\n",
    "        # Wait and locate the Deprecated CAS number section, if present\n",
    "        try:\n",
    "            deprecated_cas_elements = driver.find_elements(By.CSS_SELECTOR, 'section#Deprecated-CAS div.break-words')\n",
    "            # deprecated_cas_elements = WebDriverWait(driver, 3).until(EC.visibility_of_all_elements_located((By.CSS_SELECTOR, 'section#Deprecated-CAS div.break-words')))\n",
    "            cas_numbers[\"Deprecated CAS\"] = ', '.join([el.text.strip() for el in deprecated_cas_elements])\n",
    "            \n",
    "        except (NoSuchElementException, TimeoutException):\n",
    "            cas_numbers[\"Deprecated CAS\"] = \"N/A\"  # Deprecated CAS number not found\n",
    "            \n",
    "    except Exception as e:\n",
    "        print(f\"Error retrieving CAS numbers for {link}: {e}\")\n",
    "\n",
    "    return cas_numbers\n",
    "\n",
    "def get_cas_numbers_concurrently(links):\n",
    "    cas_matches = []\n",
    "    driver = setup_webdriver()  # Initialize the WebDriver once\n",
    "\n",
    "    try:\n",
    "        for link in links:\n",
    "            cas_matches.append(get_cas_numbers(link, driver))\n",
    "\n",
    "    finally:\n",
    "        driver.quit()  # Make sure to quit the WebDriver\n",
    "\n",
    "    return cas_matches      "
   ]
  },
  {
   "cell_type": "code",
   "execution_count": null,
   "id": "1be9d82c-d508-46a6-9365-3503e5de9317",
   "metadata": {
    "editable": true,
    "slideshow": {
     "slide_type": ""
    },
    "tags": []
   },
   "outputs": [],
   "source": [
    "cas_numbers = get_cas_numbers_concurrently(links_arr)"
   ]
  },
  {
   "cell_type": "code",
   "execution_count": null,
   "id": "72d68d49-d06e-4dd0-a8b5-3d6c13334997",
   "metadata": {},
   "outputs": [],
   "source": [
    "df_cas = pd.DataFrame(cas_numbers, columns=['CAS', 'Deprecated CAS'])\n",
    "df_cas"
   ]
  },
  {
   "cell_type": "markdown",
   "id": "45b5d5d1-e4d7-4923-9bc1-a0afbf3054c8",
   "metadata": {},
   "source": [
    "# Combining Molecule Links Dataframe with CAS Dataframe"
   ]
  },
  {
   "cell_type": "code",
   "execution_count": null,
   "id": "c1ee6121-50b7-47e4-93fd-706b1dc9ac20",
   "metadata": {
    "editable": true,
    "slideshow": {
     "slide_type": ""
    },
    "tags": []
   },
   "outputs": [],
   "source": [
    "final_df = pd.concat([df_merged, df_cas], ignore_index=True, sort=False, axis=1)"
   ]
  },
  {
   "cell_type": "code",
   "execution_count": null,
   "id": "80e72128-0e18-47e9-8552-f65df6b21099",
   "metadata": {
    "editable": true,
    "slideshow": {
     "slide_type": ""
    },
    "tags": []
   },
   "outputs": [],
   "source": [
    "final_df"
   ]
  },
  {
   "cell_type": "code",
   "execution_count": null,
   "id": "8a3febdb-008d-4999-9e5d-f4b0d6c1e5be",
   "metadata": {},
   "outputs": [],
   "source": [
    "final_df = pd.concat([molecules_df, final_df], ignore_index=True, sort=False, axis=1)\n",
    "final_df"
   ]
  },
  {
   "cell_type": "code",
   "execution_count": null,
   "id": "10033943-5f6f-46c6-ae69-91511f41dcfc",
   "metadata": {},
   "outputs": [],
   "source": [
    "final_df.columns=['Original Molecule', 'Parsed Molecule', 'Link', 'Result Type', 'CAS', 'Deprecated CAS']"
   ]
  },
  {
   "cell_type": "markdown",
   "id": "35b6fed2-bce5-406d-b918-e27d3ca84204",
   "metadata": {},
   "source": [
    "# Flagging Compound Types"
   ]
  },
  {
   "cell_type": "code",
   "execution_count": null,
   "id": "a507e1b6-ae6a-45c1-91b0-b746b8c10e57",
   "metadata": {},
   "outputs": [],
   "source": [
    "final_df['Compound/Substance'] = final_df['Link'].apply(lambda x: 'COMPOUND' if 'compound' in str(x) else ('SUBSTANCE' if 'substance' in str(x) else 'N/A'))"
   ]
  },
  {
   "cell_type": "code",
   "execution_count": null,
   "id": "4b76c905-6341-4ee2-b191-8d16da5e9a8e",
   "metadata": {
    "scrolled": true
   },
   "outputs": [],
   "source": [
    "final_df"
   ]
  },
  {
   "cell_type": "code",
   "execution_count": null,
   "id": "ad766ba8-646a-42e3-8c6a-13bb1aaec2c7",
   "metadata": {},
   "outputs": [],
   "source": [
    "final_df['Original Molecule'] = final_df['Parsed Molecule']\n",
    "final_df = final_df[['Original Molecule', 'Parsed Molecule', 'Link', 'Result Type', 'CAS', 'Deprecated CAS', 'Compound/Substance']]\n",
    "final_df"
   ]
  },
  {
   "cell_type": "markdown",
   "id": "39adc366-2d4b-42ce-b298-a9d83bafb715",
   "metadata": {},
   "source": [
    "# Export Dataframe as CSV"
   ]
  },
  {
   "cell_type": "code",
   "execution_count": null,
   "id": "9d8e42ea-7123-4717-8032-96567adcb10d",
   "metadata": {
    "editable": true,
    "slideshow": {
     "slide_type": ""
    },
    "tags": []
   },
   "outputs": [],
   "source": [
    "final_df_csv = final_df.to_csv('pubchem_longer_wait.csv', index = False) "
   ]
  },
  {
   "cell_type": "code",
   "execution_count": null,
   "id": "fd2b06b9-eee5-4240-8205-2b0ea9fa3ab7",
   "metadata": {},
   "outputs": [],
   "source": []
  }
 ],
 "metadata": {
  "kernelspec": {
   "display_name": "Python 3 (ipykernel)",
   "language": "python",
   "name": "python3"
  },
  "language_info": {
   "codemirror_mode": {
    "name": "ipython",
    "version": 3
   },
   "file_extension": ".py",
   "mimetype": "text/x-python",
   "name": "python",
   "nbconvert_exporter": "python",
   "pygments_lexer": "ipython3",
   "version": "3.11.2"
  }
 },
 "nbformat": 4,
 "nbformat_minor": 5
}
