{
 "cells": [
  {
   "cell_type": "code",
   "execution_count": 1,
   "id": "9db1677a-efa7-4b43-81b3-d8c07dc00be7",
   "metadata": {},
   "outputs": [],
   "source": [
    "import selenium \n",
    "import csv\n",
    "import re\n",
    "import pandas as pd\n",
    "\n",
    "from selenium import webdriver\n",
    "from selenium.webdriver.common.keys import Keys\n",
    "from selenium.webdriver.common.by import By\n",
    "from selenium.webdriver.chrome.service import Service\n",
    "from webdriver_manager.chrome import ChromeDriverManager\n",
    "from selenium.webdriver.support.ui import WebDriverWait\n",
    "from selenium.webdriver.support import expected_conditions as EC\n",
    "from selenium.common.exceptions import NoSuchElementException, TimeoutException\n",
    "from selenium.webdriver.chrome.options import Options\n",
    "\n",
    "import time"
   ]
  },
  {
   "cell_type": "code",
   "execution_count": 2,
   "id": "e1dbede3-990d-4f75-a78b-a38c3024c304",
   "metadata": {},
   "outputs": [],
   "source": [
    "sample_df = pd.read_csv(\"PUBCHEM_SYNONYMS_FLAGGED.csv\")\n",
    "sample_df = sample_df.head(10)\n",
    "\n",
    "cas_df = sample_df[sample_df[\"CAS\"] != \"No CAS info\"]\n",
    "missing_df = sample_df[sample_df[\"CAS\"] == \"No CAS info\"] "
   ]
  },
  {
   "cell_type": "code",
   "execution_count": 3,
   "id": "35b9bf0a-a49c-40ea-af18-98b78fbc7827",
   "metadata": {},
   "outputs": [],
   "source": [
    "cas_df = cas_df[['Parsed Molecule', 'CAS']]\n",
    "missing_df = missing_df[['Parsed Molecule', 'CAS']]"
   ]
  },
  {
   "cell_type": "code",
   "execution_count": 4,
   "id": "d4fe9ce3-485a-452a-8bde-c0b41c185d15",
   "metadata": {},
   "outputs": [
    {
     "data": {
      "text/html": [
       "<div>\n",
       "<style scoped>\n",
       "    .dataframe tbody tr th:only-of-type {\n",
       "        vertical-align: middle;\n",
       "    }\n",
       "\n",
       "    .dataframe tbody tr th {\n",
       "        vertical-align: top;\n",
       "    }\n",
       "\n",
       "    .dataframe thead th {\n",
       "        text-align: right;\n",
       "    }\n",
       "</style>\n",
       "<table border=\"1\" class=\"dataframe\">\n",
       "  <thead>\n",
       "    <tr style=\"text-align: right;\">\n",
       "      <th></th>\n",
       "      <th>Parsed Molecule</th>\n",
       "      <th>CAS</th>\n",
       "    </tr>\n",
       "  </thead>\n",
       "  <tbody>\n",
       "    <tr>\n",
       "      <th>0</th>\n",
       "      <td>1,2 PROPANEDIOL DIACETATE</td>\n",
       "      <td>623-84-7</td>\n",
       "    </tr>\n",
       "    <tr>\n",
       "      <th>1</th>\n",
       "      <td>1 HEXADECANOL</td>\n",
       "      <td>36653-82-4, 36311-34-9, 124-29-8</td>\n",
       "    </tr>\n",
       "    <tr>\n",
       "      <th>2</th>\n",
       "      <td>1 OCTADECANOL</td>\n",
       "      <td>112-92-5, 68911-61-5, 26762-44-7</td>\n",
       "    </tr>\n",
       "    <tr>\n",
       "      <th>4</th>\n",
       "      <td>2 OXOGLUTARIC ACID</td>\n",
       "      <td>328-50-7, 34410-46-3, 17091-15-5</td>\n",
       "    </tr>\n",
       "    <tr>\n",
       "      <th>6</th>\n",
       "      <td>2 PROPANOL</td>\n",
       "      <td>67-63-0</td>\n",
       "    </tr>\n",
       "    <tr>\n",
       "      <th>7</th>\n",
       "      <td>4 AMINOBUTYRIC ACID</td>\n",
       "      <td>56-12-2</td>\n",
       "    </tr>\n",
       "    <tr>\n",
       "      <th>9</th>\n",
       "      <td>7 OXO-DEHYDROEPIANDROSTERONE</td>\n",
       "      <td>566-19-8</td>\n",
       "    </tr>\n",
       "  </tbody>\n",
       "</table>\n",
       "</div>"
      ],
      "text/plain": [
       "                Parsed Molecule                               CAS\n",
       "0     1,2 PROPANEDIOL DIACETATE                          623-84-7\n",
       "1                 1 HEXADECANOL  36653-82-4, 36311-34-9, 124-29-8\n",
       "2                 1 OCTADECANOL  112-92-5, 68911-61-5, 26762-44-7\n",
       "4            2 OXOGLUTARIC ACID  328-50-7, 34410-46-3, 17091-15-5\n",
       "6                    2 PROPANOL                           67-63-0\n",
       "7           4 AMINOBUTYRIC ACID                           56-12-2\n",
       "9  7 OXO-DEHYDROEPIANDROSTERONE                          566-19-8"
      ]
     },
     "execution_count": 4,
     "metadata": {},
     "output_type": "execute_result"
    }
   ],
   "source": [
    "cas_df"
   ]
  },
  {
   "cell_type": "code",
   "execution_count": 5,
   "id": "30ad39e8-0c03-4f8d-8c7b-4079ee792a75",
   "metadata": {},
   "outputs": [
    {
     "data": {
      "text/html": [
       "<div>\n",
       "<style scoped>\n",
       "    .dataframe tbody tr th:only-of-type {\n",
       "        vertical-align: middle;\n",
       "    }\n",
       "\n",
       "    .dataframe tbody tr th {\n",
       "        vertical-align: top;\n",
       "    }\n",
       "\n",
       "    .dataframe thead th {\n",
       "        text-align: right;\n",
       "    }\n",
       "</style>\n",
       "<table border=\"1\" class=\"dataframe\">\n",
       "  <thead>\n",
       "    <tr style=\"text-align: right;\">\n",
       "      <th></th>\n",
       "      <th>Parsed Molecule</th>\n",
       "      <th>CAS</th>\n",
       "    </tr>\n",
       "  </thead>\n",
       "  <tbody>\n",
       "    <tr>\n",
       "      <th>3</th>\n",
       "      <td>2,3-(2 IODOPROPYLIDENEDIOXY)PROPANOL</td>\n",
       "      <td>No CAS info</td>\n",
       "    </tr>\n",
       "    <tr>\n",
       "      <th>5</th>\n",
       "      <td>2 PHENOXYETHANOL</td>\n",
       "      <td>No CAS info</td>\n",
       "    </tr>\n",
       "    <tr>\n",
       "      <th>8</th>\n",
       "      <td>7 KETO DEHYDRANDROSTERONE</td>\n",
       "      <td>No CAS info</td>\n",
       "    </tr>\n",
       "  </tbody>\n",
       "</table>\n",
       "</div>"
      ],
      "text/plain": [
       "                        Parsed Molecule          CAS\n",
       "3  2,3-(2 IODOPROPYLIDENEDIOXY)PROPANOL  No CAS info\n",
       "5                      2 PHENOXYETHANOL  No CAS info\n",
       "8             7 KETO DEHYDRANDROSTERONE  No CAS info"
      ]
     },
     "execution_count": 5,
     "metadata": {},
     "output_type": "execute_result"
    }
   ],
   "source": [
    "missing_df"
   ]
  },
  {
   "cell_type": "code",
   "execution_count": 6,
   "id": "e7160007-2ddc-45f3-adc5-c6bb97cbbe8b",
   "metadata": {},
   "outputs": [],
   "source": [
    "def get_first_cas(cas_string):\n",
    "    if cas_string == \"No CAS info\":\n",
    "        return \n",
    "    return cas_string.split(',')[0].strip()\n",
    "\n",
    "# Apply this function to the entire CAS column\n",
    "cas_df['CAS'] = cas_df['CAS'].apply(get_first_cas)\n",
    "cas_arr = cas_df['CAS'].tolist()\n",
    "\n",
    "missing_df['CAS'] = missing_df['CAS'].apply(get_first_cas)\n",
    "missing_arr = missing_df['CAS'].tolist()"
   ]
  },
  {
   "cell_type": "code",
   "execution_count": 7,
   "id": "40690b76-26be-44d2-a8dd-0618f3346f0e",
   "metadata": {},
   "outputs": [],
   "source": [
    "def setup_webdriver():\n",
    "    '''Initializes a headless selenium webdriver'''\n",
    "    chrome_options = Options()\n",
    "    chrome_options.add_argument(\"--headless\")\n",
    "    service = Service(ChromeDriverManager().install())\n",
    "    driver = webdriver.Chrome(service=service, options=chrome_options)\n",
    "    return driver\n",
    "\n",
    "def url_inxight(cas):\n",
    "    '''Generates an Inxight URL for a given CAS'''\n",
    "    return f\"https://drugs.ncats.io/substances?q={cas}\""
   ]
  },
  {
   "cell_type": "code",
   "execution_count": 8,
   "id": "897dd995-1ab8-4bc8-97b9-e137861453eb",
   "metadata": {},
   "outputs": [],
   "source": [
    "def get_inxight_url(molecule, driver):\n",
    "    '''\n",
    "    Parameters\n",
    "    ----------\n",
    "    A molecule's CAS and an initialised webdriver.\n",
    "\n",
    "    Returns\n",
    "    -------\n",
    "    The top Inxight search result for a given CAS number\n",
    "    '''\n",
    "    \n",
    "    url = \"N/A\"  # Default in case of failure\n",
    "\n",
    "    driver.get(url_inxight(molecule))\n",
    "    try:\n",
    "        WebDriverWait(driver, 3).until(EC.visibility_of_element_located((By.CSS_SELECTOR, 'a[id=\"card-title\"]')))\n",
    "        elements = driver.find_elements(By.CSS_SELECTOR, 'a[id=\"card-title\"]')\n",
    "        if elements:\n",
    "            element = elements[0]\n",
    "            url = element.get_attribute('href')\n",
    "\n",
    "    except (NoSuchElementException, TimeoutException):\n",
    "        pass  \n",
    "\n",
    "    return molecule, url\n",
    "\n",
    "def get_best_urls(cas_arr):\n",
    "    '''\n",
    "    Parameters\n",
    "    ----------\n",
    "    An array of CAS values\n",
    "\n",
    "    Returns\n",
    "    -------\n",
    "    An array of associated top matches\n",
    "    '''\n",
    "    \n",
    "    best_matches = []\n",
    "    driver = setup_webdriver()  \n",
    "    try:\n",
    "        for cas in cas_arr:\n",
    "            molecule, url = get_inxight_url(cas, driver)\n",
    "            best_matches.append((molecule, url))\n",
    "    finally:\n",
    "        driver.quit()  \n",
    "\n",
    "    return best_matches"
   ]
  },
  {
   "cell_type": "code",
   "execution_count": 9,
   "id": "25ce7718-ff37-4251-9af9-68f965ef97d4",
   "metadata": {},
   "outputs": [],
   "source": [
    "import requests\n",
    "\n",
    "def get_additional_data(id):\n",
    "    r = requests.get(f'https://drugs.ncats.io/api/v1/substances({id})/@additional')\n",
    "    if 200 == r.status_code:\n",
    "        return r.json()\n",
    "    return None"
   ]
  },
  {
   "cell_type": "code",
   "execution_count": 10,
   "id": "e6f413b0-2ba2-40d6-a375-d38bff9426c0",
   "metadata": {},
   "outputs": [],
   "source": [
    "def extract_conditions_and_phases(data):\n",
    "    conditions_list = []\n",
    "    highest_approval_list = []\n",
    "\n",
    "    for entry in data:\n",
    "        if entry['name'] == 'Conditions' and 'value' in entry:\n",
    "            condition_info = entry['value']\n",
    "            \n",
    "            # Extract the condition name\n",
    "            label = condition_info.get('label')\n",
    "            if label:\n",
    "                conditions_list.append(label)\n",
    "            \n",
    "            # Extract the highest phase of approval\n",
    "            highest_phase = condition_info.get('highestPhase')\n",
    "            if highest_phase:\n",
    "                highest_approval_list.append(highest_phase)\n",
    "\n",
    "    return conditions_list, highest_approval_list"
   ]
  },
  {
   "cell_type": "code",
   "execution_count": 11,
   "id": "4e784f93-bd63-469f-a5b9-c7b31dd3931d",
   "metadata": {},
   "outputs": [],
   "source": [
    "def extract_event_details(data):\n",
    "    event_details = {}\n",
    "    \n",
    "    for item in data:\n",
    "        if 'value' in item and isinstance(item['value'], dict):  # Ensure 'value' is a dictionary\n",
    "            details = item['value']\n",
    "            if 'status' in details and 'year' in details:\n",
    "                # Gather additional details\n",
    "                source_id = details.get('sourceID', 'No Source ID')\n",
    "                source_url = details.get('sourceURL', 'No Source URL')\n",
    "                \n",
    "                # Create a detailed string or dictionary as needed\n",
    "                detail_info = {\n",
    "                    'Status and Year': f\"{details['status']} {details['year']}\",\n",
    "                    'Source ID': source_id,\n",
    "                    'Source URL': source_url\n",
    "                }\n",
    "                \n",
    "                # Use the 'name' of the event as the key in the dictionary\n",
    "                event_details[item['name']] = detail_info\n",
    "    \n",
    "    return event_details"
   ]
  },
  {
   "cell_type": "code",
   "execution_count": 12,
   "id": "671670df-e001-4481-b640-db222bcee3af",
   "metadata": {},
   "outputs": [
    {
     "data": {
      "text/plain": [
       "[('623-84-7', 'https://drugs.ncats.io/drug/5Z492UNF9O'),\n",
       " ('36653-82-4', 'https://drugs.ncats.io/drug/936JST6JCN'),\n",
       " ('112-92-5', 'https://drugs.ncats.io/drug/2KR89I4H1Y'),\n",
       " ('328-50-7', 'https://drugs.ncats.io/drug/8ID597Z82X'),\n",
       " ('67-63-0', 'https://drugs.ncats.io/drug/ND2M416302'),\n",
       " ('56-12-2', 'https://drugs.ncats.io/drug/2ACZ6IPC6I'),\n",
       " ('566-19-8', 'https://drugs.ncats.io/drug/2334LJD2E9')]"
      ]
     },
     "execution_count": 12,
     "metadata": {},
     "output_type": "execute_result"
    }
   ],
   "source": [
    "links = get_best_urls(cas_arr)\n",
    "links"
   ]
  },
  {
   "cell_type": "code",
   "execution_count": 13,
   "id": "edd4c0b9-ab1d-4ace-9cef-a352a4fe4cad",
   "metadata": {},
   "outputs": [
    {
     "data": {
      "text/plain": [
       "['5Z492UNF9O',\n",
       " '936JST6JCN',\n",
       " '2KR89I4H1Y',\n",
       " '8ID597Z82X',\n",
       " 'ND2M416302',\n",
       " '2ACZ6IPC6I',\n",
       " '2334LJD2E9']"
      ]
     },
     "execution_count": 13,
     "metadata": {},
     "output_type": "execute_result"
    }
   ],
   "source": [
    "identifiers = [url.split('/')[-1] for _, url in links]\n",
    "identifiers"
   ]
  },
  {
   "cell_type": "code",
   "execution_count": 15,
   "id": "f7ba9752-a659-48c2-b5f7-3f8133425cc6",
   "metadata": {},
   "outputs": [
    {
     "name": "stdout",
     "output_type": "stream",
     "text": [
      "{'Highest Development Event': {'Status and Year': 'Possibly Marketed Outside US 1996', 'Source ID': 'ANDA040166', 'Source URL': 'https://dailymed.nlm.nih.gov/dailymed/drugInfo.cfm?setid=c0ec47b7-c13a-4fa0-91fe-d7a03c70aec9'}, 'Earliest Approved Event': {'Status and Year': 'Possibly Marketed Outside US 1996', 'Source ID': 'ANDA040166', 'Source URL': 'https://dailymed.nlm.nih.gov/dailymed/drugInfo.cfm?setid=c0ec47b7-c13a-4fa0-91fe-d7a03c70aec9'}}\n",
      "{'Highest Development Event': {'Status and Year': 'US Previously Marketed 1990', 'Source ID': 'EXOSURF NEONATAL by GLAXOSMITHKLINE', 'Source URL': 'https://www.accessdata.fda.gov/scripts/cder/daf/index.cfm?event=overview.process&ApplNo=020044'}, 'Earliest Approved Event': {'Status and Year': 'Possibly Marketed Outside US 1984', 'Source ID': 'NU-DERM SUNFADER  Skin Lightener with Sunscreen (SPF 15) PABA FREE by OMP, INC.', 'Source URL': 'https://dailymed.nlm.nih.gov/dailymed/drugInfo.cfm?setid=c67b0629-5529-412d-99ee-186df4ecad5a'}}\n",
      "{'Earliest Approved Event': {'Status and Year': 'Possibly Marketed Outside US 1970', 'Source ID': 'Ala Quin by Crown Laboratories', 'Source URL': 'https://dailymed.nlm.nih.gov/dailymed/drugInfo.cfm?setid=d2ae30c6-ad64-47ed-b371-778eaebeeddf'}}\n",
      "{}\n",
      "{'Earliest Approved Event': {'Status and Year': 'US Previously Marketed 1921', 'Source ID': 'Rubbing Alcohol', 'Source URL': 'https://books.google.com/books?id=1n4gAQAAMAAJ&newbks=1&newbks_redir=0&dq=alcohol%20rubbing%20usp&pg=PA85#v=onepage&q=alcohol%20rubbing%20usp&f=false'}}\n",
      "{'Earliest Approved Event': {'Status and Year': 'Possibly Marketed Outside US 2009', 'Source ID': '21 CFR 352', 'Source URL': 'https://dailymed.nlm.nih.gov/dailymed/drugInfo.cfm?setid=1725b5af-fe03-4372-beaf-d6fd9088a1f1'}}\n",
      "{'Highest Development Event': {'Status and Year': 'Possibly Marketed Outside US 2015', 'Source ID': '21 CFR 348', 'Source URL': 'https://dailymed.nlm.nih.gov/dailymed/drugInfo.cfm?setid=6c5854bb-b51a-4583-9148-6f76c59ff24c'}, 'Earliest Approved Event': {'Status and Year': 'Possibly Marketed Outside US 2015', 'Source ID': '21 CFR 348', 'Source URL': 'https://dailymed.nlm.nih.gov/dailymed/drugInfo.cfm?setid=6c5854bb-b51a-4583-9148-6f76c59ff24c'}}\n"
     ]
    }
   ],
   "source": [
    "def extract_events(identifiers):\n",
    "    data = []\n",
    "    events = []\n",
    "\n",
    "    for identifier in identifiers:\n",
    "        data = get_additional_data(identifier)\n",
    "        print(extract_event_details(data))\n",
    "        events.append(extract_event_details(data))\n",
    "\n",
    "    return events\n",
    "        \n",
    "events = extract_events(identifiers)"
   ]
  },
  {
   "cell_type": "code",
   "execution_count": null,
   "id": "d2b56257-0d36-4ad7-8104-2202547f04a1",
   "metadata": {},
   "outputs": [],
   "source": [
    "def extract_conditions(identifiers):\n",
    "    conditions = []\n",
    "\n",
    "    for identifier in identifiers:\n",
    "        data = get_additional_data(identifier)\n",
    "        conditions.append(extract_conditions_and_phases(data))\n",
    "\n",
    "    return conditions\n",
    "        \n",
    "conditions = extract_conditions(identifiers)"
   ]
  },
  {
   "cell_type": "code",
   "execution_count": null,
   "id": "8fb6c934-001a-44f9-b366-27904bbd1ea5",
   "metadata": {},
   "outputs": [],
   "source": [
    "events"
   ]
  },
  {
   "cell_type": "code",
   "execution_count": null,
   "id": "b7e9a20f-f5a6-4497-8e9d-b06b9a15bd65",
   "metadata": {},
   "outputs": [],
   "source": [
    "conditions"
   ]
  },
  {
   "cell_type": "code",
   "execution_count": null,
   "id": "2491afc7-e3be-4a5c-85d1-3dbc82b873a2",
   "metadata": {},
   "outputs": [],
   "source": []
  }
 ],
 "metadata": {
  "kernelspec": {
   "display_name": "Python 3 (ipykernel)",
   "language": "python",
   "name": "python3"
  },
  "language_info": {
   "codemirror_mode": {
    "name": "ipython",
    "version": 3
   },
   "file_extension": ".py",
   "mimetype": "text/x-python",
   "name": "python",
   "nbconvert_exporter": "python",
   "pygments_lexer": "ipython3",
   "version": "3.11.7"
  }
 },
 "nbformat": 4,
 "nbformat_minor": 5
}
