{
 "cells": [
  {
   "cell_type": "markdown",
   "id": "c229568b-2c86-4650-baa8-1c599353e36d",
   "metadata": {},
   "source": [
    "# Libraries"
   ]
  },
  {
   "cell_type": "code",
   "execution_count": 18,
   "id": "f95ce3bc-e97b-4855-bf3a-415d9bfd5ad7",
   "metadata": {},
   "outputs": [],
   "source": [
    "import selenium \n",
    "import csv\n",
    "import re\n",
    "import pandas as pd\n",
    "\n",
    "from selenium import webdriver\n",
    "from selenium.webdriver.common.keys import Keys\n",
    "from selenium.webdriver.common.by import By\n",
    "from selenium.webdriver.chrome.service import Service\n",
    "from webdriver_manager.chrome import ChromeDriverManager\n",
    "from selenium.webdriver.support.ui import WebDriverWait\n",
    "from selenium.webdriver.support import expected_conditions as EC\n",
    "from selenium.common.exceptions import NoSuchElementException, TimeoutException\n",
    "from selenium.webdriver.chrome.options import Options\n",
    "\n",
    "import time"
   ]
  },
  {
   "cell_type": "markdown",
   "id": "bb29fc70-19d3-4b16-85fb-635178bc1451",
   "metadata": {},
   "source": [
    "# Initial Dataframe Manipulations"
   ]
  },
  {
   "cell_type": "code",
   "execution_count": 19,
   "id": "bf89d7fc-a031-4483-a5c7-16ceb8dff6d4",
   "metadata": {},
   "outputs": [],
   "source": [
    "sample_df = pd.read_csv(\"PUBCHEM_SYNONYMS_FLAGGED.csv\")\n",
    "sample_df = sample_df.head(10)\n",
    "\n",
    "cas_df = sample_df[sample_df[\"CAS\"] != \"No CAS info\"]\n",
    "missing_df = sample_df[sample_df[\"CAS\"] == \"No CAS info\"] "
   ]
  },
  {
   "cell_type": "code",
   "execution_count": 20,
   "id": "02e6f6c1-17f6-4a5a-8f5e-6c978691daea",
   "metadata": {},
   "outputs": [
    {
     "data": {
      "text/html": [
       "<div>\n",
       "<style scoped>\n",
       "    .dataframe tbody tr th:only-of-type {\n",
       "        vertical-align: middle;\n",
       "    }\n",
       "\n",
       "    .dataframe tbody tr th {\n",
       "        vertical-align: top;\n",
       "    }\n",
       "\n",
       "    .dataframe thead th {\n",
       "        text-align: right;\n",
       "    }\n",
       "</style>\n",
       "<table border=\"1\" class=\"dataframe\">\n",
       "  <thead>\n",
       "    <tr style=\"text-align: right;\">\n",
       "      <th></th>\n",
       "      <th>Original Molecule</th>\n",
       "      <th>Parsed Molecule</th>\n",
       "      <th>Link</th>\n",
       "      <th>Result Type</th>\n",
       "      <th>CAS</th>\n",
       "      <th>Deprecated CAS</th>\n",
       "      <th>Compound/Substance</th>\n",
       "      <th>Depositor Synonym List</th>\n",
       "      <th>Regular Synonym List</th>\n",
       "      <th>Synonym?</th>\n",
       "    </tr>\n",
       "  </thead>\n",
       "  <tbody>\n",
       "    <tr>\n",
       "      <th>0</th>\n",
       "      <td>1-2-PROPANEDIOL_DIACETATE</td>\n",
       "      <td>1,2 PROPANEDIOL DIACETATE</td>\n",
       "      <td>https://pubchem.ncbi.nlm.nih.gov/compound/12198</td>\n",
       "      <td>RELEVANT</td>\n",
       "      <td>623-84-7</td>\n",
       "      <td>134236-23-0, 1432741-27-9, 1432741-27-9, 13423...</td>\n",
       "      <td>COMPOUND</td>\n",
       "      <td>YES</td>\n",
       "      <td>YES</td>\n",
       "      <td>YES</td>\n",
       "    </tr>\n",
       "    <tr>\n",
       "      <th>1</th>\n",
       "      <td>1-HEXADECANOL</td>\n",
       "      <td>1 HEXADECANOL</td>\n",
       "      <td>https://pubchem.ncbi.nlm.nih.gov/compound/2682</td>\n",
       "      <td>RELEVANT</td>\n",
       "      <td>36653-82-4, 36311-34-9, 124-29-8</td>\n",
       "      <td>168679-13-8, 124-29-8, 55069-45-9, 8014-51-5, ...</td>\n",
       "      <td>COMPOUND</td>\n",
       "      <td>YES</td>\n",
       "      <td>YES</td>\n",
       "      <td>YES</td>\n",
       "    </tr>\n",
       "    <tr>\n",
       "      <th>2</th>\n",
       "      <td>1-OCTADECANOL</td>\n",
       "      <td>1 OCTADECANOL</td>\n",
       "      <td>https://pubchem.ncbi.nlm.nih.gov/compound/8221</td>\n",
       "      <td>RELEVANT</td>\n",
       "      <td>112-92-5, 68911-61-5, 26762-44-7</td>\n",
       "      <td>193766-48-2, 8014-37-7, 8032-19-7, 8032-21-1, ...</td>\n",
       "      <td>COMPOUND</td>\n",
       "      <td>YES</td>\n",
       "      <td>YES</td>\n",
       "      <td>YES</td>\n",
       "    </tr>\n",
       "    <tr>\n",
       "      <th>4</th>\n",
       "      <td>2-OXOGLUTARIC_ACID</td>\n",
       "      <td>2 OXOGLUTARIC ACID</td>\n",
       "      <td>https://pubchem.ncbi.nlm.nih.gov/compound/51</td>\n",
       "      <td>FEATURED</td>\n",
       "      <td>328-50-7, 34410-46-3, 17091-15-5</td>\n",
       "      <td>27175-99-1</td>\n",
       "      <td>COMPOUND</td>\n",
       "      <td>YES</td>\n",
       "      <td>YES</td>\n",
       "      <td>YES</td>\n",
       "    </tr>\n",
       "    <tr>\n",
       "      <th>6</th>\n",
       "      <td>2-PROPANOL</td>\n",
       "      <td>2 PROPANOL</td>\n",
       "      <td>https://pubchem.ncbi.nlm.nih.gov/compound/3776</td>\n",
       "      <td>FEATURED</td>\n",
       "      <td>67-63-0</td>\n",
       "      <td>8013-70-5</td>\n",
       "      <td>COMPOUND</td>\n",
       "      <td>YES</td>\n",
       "      <td>YES</td>\n",
       "      <td>YES</td>\n",
       "    </tr>\n",
       "    <tr>\n",
       "      <th>7</th>\n",
       "      <td>4-AMINOBUTYRIC_ACID</td>\n",
       "      <td>4 AMINOBUTYRIC ACID</td>\n",
       "      <td>https://pubchem.ncbi.nlm.nih.gov/compound/119</td>\n",
       "      <td>FEATURED</td>\n",
       "      <td>56-12-2</td>\n",
       "      <td>3131-86-0</td>\n",
       "      <td>COMPOUND</td>\n",
       "      <td>YES</td>\n",
       "      <td>YES</td>\n",
       "      <td>YES</td>\n",
       "    </tr>\n",
       "    <tr>\n",
       "      <th>9</th>\n",
       "      <td>7-OXO-DEHYDROEPIANDROSTERONE</td>\n",
       "      <td>7 OXO-DEHYDROEPIANDROSTERONE</td>\n",
       "      <td>https://pubchem.ncbi.nlm.nih.gov/compound/193313</td>\n",
       "      <td>RELEVANT</td>\n",
       "      <td>566-19-8</td>\n",
       "      <td>No CAS info</td>\n",
       "      <td>COMPOUND</td>\n",
       "      <td>YES</td>\n",
       "      <td>YES</td>\n",
       "      <td>YES</td>\n",
       "    </tr>\n",
       "  </tbody>\n",
       "</table>\n",
       "</div>"
      ],
      "text/plain": [
       "              Original Molecule               Parsed Molecule  \\\n",
       "0     1-2-PROPANEDIOL_DIACETATE     1,2 PROPANEDIOL DIACETATE   \n",
       "1                 1-HEXADECANOL                 1 HEXADECANOL   \n",
       "2                 1-OCTADECANOL                 1 OCTADECANOL   \n",
       "4            2-OXOGLUTARIC_ACID            2 OXOGLUTARIC ACID   \n",
       "6                    2-PROPANOL                    2 PROPANOL   \n",
       "7           4-AMINOBUTYRIC_ACID           4 AMINOBUTYRIC ACID   \n",
       "9  7-OXO-DEHYDROEPIANDROSTERONE  7 OXO-DEHYDROEPIANDROSTERONE   \n",
       "\n",
       "                                               Link Result Type  \\\n",
       "0   https://pubchem.ncbi.nlm.nih.gov/compound/12198    RELEVANT   \n",
       "1    https://pubchem.ncbi.nlm.nih.gov/compound/2682    RELEVANT   \n",
       "2    https://pubchem.ncbi.nlm.nih.gov/compound/8221    RELEVANT   \n",
       "4      https://pubchem.ncbi.nlm.nih.gov/compound/51    FEATURED   \n",
       "6    https://pubchem.ncbi.nlm.nih.gov/compound/3776    FEATURED   \n",
       "7     https://pubchem.ncbi.nlm.nih.gov/compound/119    FEATURED   \n",
       "9  https://pubchem.ncbi.nlm.nih.gov/compound/193313    RELEVANT   \n",
       "\n",
       "                                CAS  \\\n",
       "0                          623-84-7   \n",
       "1  36653-82-4, 36311-34-9, 124-29-8   \n",
       "2  112-92-5, 68911-61-5, 26762-44-7   \n",
       "4  328-50-7, 34410-46-3, 17091-15-5   \n",
       "6                           67-63-0   \n",
       "7                           56-12-2   \n",
       "9                          566-19-8   \n",
       "\n",
       "                                      Deprecated CAS Compound/Substance  \\\n",
       "0  134236-23-0, 1432741-27-9, 1432741-27-9, 13423...           COMPOUND   \n",
       "1  168679-13-8, 124-29-8, 55069-45-9, 8014-51-5, ...           COMPOUND   \n",
       "2  193766-48-2, 8014-37-7, 8032-19-7, 8032-21-1, ...           COMPOUND   \n",
       "4                                         27175-99-1           COMPOUND   \n",
       "6                                          8013-70-5           COMPOUND   \n",
       "7                                          3131-86-0           COMPOUND   \n",
       "9                                        No CAS info           COMPOUND   \n",
       "\n",
       "  Depositor Synonym List Regular Synonym List Synonym?  \n",
       "0                    YES                  YES      YES  \n",
       "1                    YES                  YES      YES  \n",
       "2                    YES                  YES      YES  \n",
       "4                    YES                  YES      YES  \n",
       "6                    YES                  YES      YES  \n",
       "7                    YES                  YES      YES  \n",
       "9                    YES                  YES      YES  "
      ]
     },
     "execution_count": 20,
     "metadata": {},
     "output_type": "execute_result"
    }
   ],
   "source": [
    "cas_df"
   ]
  },
  {
   "cell_type": "code",
   "execution_count": 21,
   "id": "a370708d-c414-4f3d-ba46-ef15c6418bed",
   "metadata": {},
   "outputs": [
    {
     "data": {
      "text/html": [
       "<div>\n",
       "<style scoped>\n",
       "    .dataframe tbody tr th:only-of-type {\n",
       "        vertical-align: middle;\n",
       "    }\n",
       "\n",
       "    .dataframe tbody tr th {\n",
       "        vertical-align: top;\n",
       "    }\n",
       "\n",
       "    .dataframe thead th {\n",
       "        text-align: right;\n",
       "    }\n",
       "</style>\n",
       "<table border=\"1\" class=\"dataframe\">\n",
       "  <thead>\n",
       "    <tr style=\"text-align: right;\">\n",
       "      <th></th>\n",
       "      <th>Original Molecule</th>\n",
       "      <th>Parsed Molecule</th>\n",
       "      <th>Link</th>\n",
       "      <th>Result Type</th>\n",
       "      <th>CAS</th>\n",
       "      <th>Deprecated CAS</th>\n",
       "      <th>Compound/Substance</th>\n",
       "      <th>Depositor Synonym List</th>\n",
       "      <th>Regular Synonym List</th>\n",
       "      <th>Synonym?</th>\n",
       "    </tr>\n",
       "  </thead>\n",
       "  <tbody>\n",
       "    <tr>\n",
       "      <th>3</th>\n",
       "      <td>2-3-(2-IODOPROPYLIDENEDIOXY)PROPANOL</td>\n",
       "      <td>2,3-(2 IODOPROPYLIDENEDIOXY)PROPANOL</td>\n",
       "      <td>No Link</td>\n",
       "      <td>Not Found</td>\n",
       "      <td>No CAS info</td>\n",
       "      <td>No CAS info</td>\n",
       "      <td>NEITHER</td>\n",
       "      <td>MISSING</td>\n",
       "      <td>MISSING</td>\n",
       "      <td>NO</td>\n",
       "    </tr>\n",
       "    <tr>\n",
       "      <th>5</th>\n",
       "      <td>2-PHENOXYETHANOL</td>\n",
       "      <td>2 PHENOXYETHANOL</td>\n",
       "      <td>https://pubchem.ncbi.nlm.nih.gov/compound/1797...</td>\n",
       "      <td>FEATURED</td>\n",
       "      <td>No CAS info</td>\n",
       "      <td>No CAS info</td>\n",
       "      <td>COMPOUND</td>\n",
       "      <td>NO</td>\n",
       "      <td>MISSING</td>\n",
       "      <td>NO</td>\n",
       "    </tr>\n",
       "    <tr>\n",
       "      <th>8</th>\n",
       "      <td>7-KETO_DEHYDRANDROSTERONE</td>\n",
       "      <td>7 KETO DEHYDRANDROSTERONE</td>\n",
       "      <td>No Link</td>\n",
       "      <td>Not Found</td>\n",
       "      <td>No CAS info</td>\n",
       "      <td>No CAS info</td>\n",
       "      <td>NEITHER</td>\n",
       "      <td>MISSING</td>\n",
       "      <td>MISSING</td>\n",
       "      <td>NO</td>\n",
       "    </tr>\n",
       "  </tbody>\n",
       "</table>\n",
       "</div>"
      ],
      "text/plain": [
       "                      Original Molecule                       Parsed Molecule  \\\n",
       "3  2-3-(2-IODOPROPYLIDENEDIOXY)PROPANOL  2,3-(2 IODOPROPYLIDENEDIOXY)PROPANOL   \n",
       "5                      2-PHENOXYETHANOL                      2 PHENOXYETHANOL   \n",
       "8             7-KETO_DEHYDRANDROSTERONE             7 KETO DEHYDRANDROSTERONE   \n",
       "\n",
       "                                                Link Result Type          CAS  \\\n",
       "3                                            No Link   Not Found  No CAS info   \n",
       "5  https://pubchem.ncbi.nlm.nih.gov/compound/1797...    FEATURED  No CAS info   \n",
       "8                                            No Link   Not Found  No CAS info   \n",
       "\n",
       "  Deprecated CAS Compound/Substance Depositor Synonym List  \\\n",
       "3    No CAS info            NEITHER                MISSING   \n",
       "5    No CAS info           COMPOUND                     NO   \n",
       "8    No CAS info            NEITHER                MISSING   \n",
       "\n",
       "  Regular Synonym List Synonym?  \n",
       "3              MISSING       NO  \n",
       "5              MISSING       NO  \n",
       "8              MISSING       NO  "
      ]
     },
     "execution_count": 21,
     "metadata": {},
     "output_type": "execute_result"
    }
   ],
   "source": [
    "missing_df"
   ]
  },
  {
   "cell_type": "markdown",
   "id": "1c44e398-ebfa-4c69-96de-6f400e245712",
   "metadata": {},
   "source": [
    "### Helper Functions"
   ]
  },
  {
   "cell_type": "code",
   "execution_count": 22,
   "id": "6c9cebd8-3d14-4ca4-a3a6-64623b63506a",
   "metadata": {},
   "outputs": [],
   "source": [
    "def setup_webdriver():\n",
    "    '''Initializes a headless selenium webdriver'''\n",
    "    chrome_options = Options()\n",
    "    chrome_options.add_argument(\"--headless\")\n",
    "    service = Service(ChromeDriverManager().install())\n",
    "    driver = webdriver.Chrome(service=service, options=chrome_options)\n",
    "    return driver\n",
    "\n",
    "def url_inxight(cas):\n",
    "    '''Generates an Inxight URL for a given CAS'''\n",
    "    return f\"https://drugs.ncats.io/substances?q={cas}\""
   ]
  },
  {
   "cell_type": "code",
   "execution_count": 23,
   "id": "e3558b31-4972-4351-b54f-7412a3a62ff1",
   "metadata": {},
   "outputs": [],
   "source": [
    "def get_inxight_url(molecule, driver):\n",
    "    '''\n",
    "    Parameters\n",
    "    ----------\n",
    "    A molecule's CAS and an initialised webdriver.\n",
    "\n",
    "    Returns\n",
    "    -------\n",
    "    The top Inxight search result for a given CAS number\n",
    "    '''\n",
    "    \n",
    "    url = \"N/A\"  # Default in case of failure\n",
    "\n",
    "    driver.get(url_inxight(molecule))\n",
    "    try:\n",
    "        WebDriverWait(driver, 3).until(EC.visibility_of_element_located((By.CSS_SELECTOR, 'a[id=\"card-title\"]')))\n",
    "        elements = driver.find_elements(By.CSS_SELECTOR, 'a[id=\"card-title\"]')\n",
    "        if elements:\n",
    "            element = elements[0]\n",
    "            url = element.get_attribute('href')\n",
    "\n",
    "    except (NoSuchElementException, TimeoutException):\n",
    "        pass  \n",
    "\n",
    "    return molecule, url\n",
    "\n",
    "def get_best_urls(cas_arr):\n",
    "    '''\n",
    "    Parameters\n",
    "    ----------\n",
    "    An array of CAS values\n",
    "\n",
    "    Returns\n",
    "    -------\n",
    "    An array of associated top matches\n",
    "    '''\n",
    "    \n",
    "    best_matches = []\n",
    "    driver = setup_webdriver()  \n",
    "    try:\n",
    "        for cas in cas_arr:\n",
    "            molecule, url = get_inxight_url(cas, driver)\n",
    "            best_matches.append((molecule, url))\n",
    "    finally:\n",
    "        driver.quit()  \n",
    "\n",
    "    return best_matches"
   ]
  },
  {
   "cell_type": "code",
   "execution_count": 24,
   "id": "3d735718-1199-48f4-a39d-5376f01a90ef",
   "metadata": {},
   "outputs": [
    {
     "data": {
      "text/plain": [
       "[('1420477-60-6', 'https://drugs.ncats.io/drug/I42748ELQW')]"
      ]
     },
     "execution_count": 24,
     "metadata": {},
     "output_type": "execute_result"
    }
   ],
   "source": [
    "get_best_urls([\"1420477-60-6\"])"
   ]
  },
  {
   "cell_type": "code",
   "execution_count": 25,
   "id": "5d125d8a-6a52-45cb-bfe5-b2514dbc7211",
   "metadata": {},
   "outputs": [],
   "source": [
    "import requests\n",
    "\n",
    "def get_additional_data(id):\n",
    "    r = requests.get(f'https://drugs.ncats.io/api/v1/substances({id})/@additional')\n",
    "    if 200 == r.status_code:\n",
    "        return r.json()\n",
    "    return None\n",
    "\n",
    "data = get_additional_data('I42748ELQW')"
   ]
  },
  {
   "cell_type": "code",
   "execution_count": 26,
   "id": "f1d56ff2-4143-48d8-a39f-bd9e07cbe136",
   "metadata": {},
   "outputs": [],
   "source": [
    "def extract_conditions_and_phases(data):\n",
    "    conditions_list = []\n",
    "    highest_approval_list = []\n",
    "\n",
    "    for entry in data:\n",
    "        if entry['name'] == 'Conditions' and 'value' in entry:\n",
    "            condition_info = entry['value']\n",
    "            \n",
    "            # Extract the condition name\n",
    "            label = condition_info.get('label')\n",
    "            if label:\n",
    "                conditions_list.append(label)\n",
    "            \n",
    "            # Extract the highest phase of approval\n",
    "            highest_phase = condition_info.get('highestPhase')\n",
    "            if highest_phase:\n",
    "                highest_approval_list.append(highest_phase)\n",
    "\n",
    "    return conditions_list, highest_approval_list"
   ]
  },
  {
   "cell_type": "code",
   "execution_count": 27,
   "id": "31cf8c10-7c34-436c-b39c-519073eb8ad2",
   "metadata": {},
   "outputs": [
    {
     "data": {
      "text/plain": [
       "(['Chronic lymphocytic leukemia',\n",
       "  'Rheumatoid arthritis',\n",
       "  'Glioblastoma multiforme',\n",
       "  'Mantle cell lymphoma',\n",
       "  'Head and neck squamous cell carcinoma',\n",
       "  'mantle cell lymphoma'],\n",
       " ['Phase III', 'Phase II', 'Phase II', 'Phase II', 'Phase II', 'Approved'])"
      ]
     },
     "execution_count": 27,
     "metadata": {},
     "output_type": "execute_result"
    }
   ],
   "source": [
    "extract_conditions_and_phases(data)"
   ]
  },
  {
   "cell_type": "code",
   "execution_count": 28,
   "id": "3a99e844-8269-4ee6-98f2-3207d59c3de0",
   "metadata": {},
   "outputs": [],
   "source": [
    "def extract_event_details(data):\n",
    "    event_details = {}\n",
    "    \n",
    "    for item in data:\n",
    "        if 'value' in item and isinstance(item['value'], dict):  # Ensure 'value' is a dictionary\n",
    "            details = item['value']\n",
    "            if 'status' in details and 'year' in details:\n",
    "                # Gather additional details\n",
    "                source_id = details.get('sourceID', 'No Source ID')\n",
    "                source_url = details.get('sourceURL', 'No Source URL')\n",
    "                \n",
    "                # Create a detailed string or dictionary as needed\n",
    "                detail_info = {\n",
    "                    'Status and Year': f\"{details['status']} {details['year']}\",\n",
    "                    'Source ID': source_id,\n",
    "                    'Source URL': source_url\n",
    "                }\n",
    "                \n",
    "                # Use the 'name' of the event as the key in the dictionary\n",
    "                event_details[item['name']] = detail_info\n",
    "    \n",
    "    return event_details"
   ]
  },
  {
   "cell_type": "code",
   "execution_count": 29,
   "id": "ac87824c-7cde-4eb4-af6c-81bffecbd19b",
   "metadata": {},
   "outputs": [
    {
     "data": {
      "text/plain": [
       "{'Highest Development Event': {'Status and Year': 'US Approved Rx 2022',\n",
       "  'Source ID': 'NDA216387',\n",
       "  'Source URL': 'https://www.accessdata.fda.gov/scripts/cder/daf/index.cfm?event=overview.process&ApplNo=216387'},\n",
       " 'Earliest Approved Event': {'Status and Year': 'US Approved Rx 2017',\n",
       "  'Source ID': 'NDA210259',\n",
       "  'Source URL': 'https://www.accessdata.fda.gov/scripts/cder/daf/index.cfm?event=overview.process&ApplNo=210259'}}"
      ]
     },
     "execution_count": 29,
     "metadata": {},
     "output_type": "execute_result"
    }
   ],
   "source": [
    "extract_event_details(data)"
   ]
  },
  {
   "cell_type": "code",
   "execution_count": 11,
   "id": "639a18ae-bead-4620-ac13-6260325bbed6",
   "metadata": {},
   "outputs": [
    {
     "data": {
      "text/html": [
       "<div>\n",
       "<style scoped>\n",
       "    .dataframe tbody tr th:only-of-type {\n",
       "        vertical-align: middle;\n",
       "    }\n",
       "\n",
       "    .dataframe tbody tr th {\n",
       "        vertical-align: top;\n",
       "    }\n",
       "\n",
       "    .dataframe thead th {\n",
       "        text-align: right;\n",
       "    }\n",
       "</style>\n",
       "<table border=\"1\" class=\"dataframe\">\n",
       "  <thead>\n",
       "    <tr style=\"text-align: right;\">\n",
       "      <th></th>\n",
       "      <th>Parsed Molecule</th>\n",
       "      <th>CAS</th>\n",
       "    </tr>\n",
       "  </thead>\n",
       "  <tbody>\n",
       "    <tr>\n",
       "      <th>0</th>\n",
       "      <td>1,2 PROPANEDIOL DIACETATE</td>\n",
       "      <td>623-84-7</td>\n",
       "    </tr>\n",
       "    <tr>\n",
       "      <th>1</th>\n",
       "      <td>1 HEXADECANOL</td>\n",
       "      <td>36653-82-4, 36311-34-9, 124-29-8</td>\n",
       "    </tr>\n",
       "    <tr>\n",
       "      <th>2</th>\n",
       "      <td>1 OCTADECANOL</td>\n",
       "      <td>112-92-5, 68911-61-5, 26762-44-7</td>\n",
       "    </tr>\n",
       "  </tbody>\n",
       "</table>\n",
       "</div>"
      ],
      "text/plain": [
       "             Parsed Molecule                               CAS\n",
       "0  1,2 PROPANEDIOL DIACETATE                          623-84-7\n",
       "1              1 HEXADECANOL  36653-82-4, 36311-34-9, 124-29-8\n",
       "2              1 OCTADECANOL  112-92-5, 68911-61-5, 26762-44-7"
      ]
     },
     "execution_count": 11,
     "metadata": {},
     "output_type": "execute_result"
    }
   ],
   "source": [
    "simple = sample_df[['Parsed Molecule', 'CAS']]\n",
    "simple"
   ]
  },
  {
   "cell_type": "code",
   "execution_count": 12,
   "id": "b03768db-edc7-46a9-ab2c-4657db4b908b",
   "metadata": {},
   "outputs": [
    {
     "name": "stderr",
     "output_type": "stream",
     "text": [
      "/var/folders/1c/q2gw_gw92g30pjz7b1ppnlnr0000gp/T/ipykernel_52062/355049551.py:7: SettingWithCopyWarning: \n",
      "A value is trying to be set on a copy of a slice from a DataFrame.\n",
      "Try using .loc[row_indexer,col_indexer] = value instead\n",
      "\n",
      "See the caveats in the documentation: https://pandas.pydata.org/pandas-docs/stable/user_guide/indexing.html#returning-a-view-versus-a-copy\n",
      "  simple['CAS'] = simple['CAS'].apply(get_first_cas)\n"
     ]
    },
    {
     "data": {
      "text/plain": [
       "['623-84-7', '36653-82-4', '112-92-5']"
      ]
     },
     "execution_count": 12,
     "metadata": {},
     "output_type": "execute_result"
    }
   ],
   "source": [
    "def get_first_cas(cas_string):\n",
    "    if cas_string == \"No CAS info\":\n",
    "        return \n",
    "    return cas_string.split(',')[0].strip()\n",
    "\n",
    "# Apply this function to the entire CAS column\n",
    "simple['CAS'] = simple['CAS'].apply(get_first_cas)\n",
    "cas_arr = simple['CAS'].tolist()\n",
    "cas_arr"
   ]
  },
  {
   "cell_type": "code",
   "execution_count": 13,
   "id": "1061b572-94b6-40b8-9c51-c011eb61dcf7",
   "metadata": {},
   "outputs": [],
   "source": [
    "links = get_best_urls(cas_arr)"
   ]
  },
  {
   "cell_type": "code",
   "execution_count": 14,
   "id": "3ae7dc4d-8c0b-4df9-b741-db1a6b00a875",
   "metadata": {},
   "outputs": [
    {
     "data": {
      "text/plain": [
       "[('623-84-7', 'https://drugs.ncats.io/drug/5Z492UNF9O'),\n",
       " ('36653-82-4', 'https://drugs.ncats.io/drug/936JST6JCN'),\n",
       " ('112-92-5', 'https://drugs.ncats.io/drug/2KR89I4H1Y')]"
      ]
     },
     "execution_count": 14,
     "metadata": {},
     "output_type": "execute_result"
    }
   ],
   "source": [
    "links"
   ]
  },
  {
   "cell_type": "code",
   "execution_count": 15,
   "id": "a0f361a1-331c-4f16-b8c0-a3d83754ef4e",
   "metadata": {},
   "outputs": [
    {
     "name": "stdout",
     "output_type": "stream",
     "text": [
      "['5Z492UNF9O', '936JST6JCN', '2KR89I4H1Y']\n"
     ]
    }
   ],
   "source": [
    "identifiers = [url.split('/')[-1] for _, url in links]\n",
    "\n",
    "# Printing the result\n",
    "print(identifiers)"
   ]
  },
  {
   "cell_type": "code",
   "execution_count": 16,
   "id": "0a967135-9229-44cd-9a18-94e2c8e5e479",
   "metadata": {},
   "outputs": [
    {
     "data": {
      "text/plain": [
       "[{'Highest Development Event': {'Status and Year': 'Possibly Marketed Outside US 1996',\n",
       "   'Source ID': 'ANDA040166',\n",
       "   'Source URL': 'https://dailymed.nlm.nih.gov/dailymed/drugInfo.cfm?setid=c0ec47b7-c13a-4fa0-91fe-d7a03c70aec9'},\n",
       "  'Earliest Approved Event': {'Status and Year': 'Possibly Marketed Outside US 1996',\n",
       "   'Source ID': 'ANDA040166',\n",
       "   'Source URL': 'https://dailymed.nlm.nih.gov/dailymed/drugInfo.cfm?setid=c0ec47b7-c13a-4fa0-91fe-d7a03c70aec9'}},\n",
       " {'Highest Development Event': {'Status and Year': 'US Previously Marketed 1990',\n",
       "   'Source ID': 'EXOSURF NEONATAL by GLAXOSMITHKLINE',\n",
       "   'Source URL': 'https://www.accessdata.fda.gov/scripts/cder/daf/index.cfm?event=overview.process&ApplNo=020044'},\n",
       "  'Earliest Approved Event': {'Status and Year': 'Possibly Marketed Outside US 1984',\n",
       "   'Source ID': 'NU-DERM SUNFADER  Skin Lightener with Sunscreen (SPF 15) PABA FREE by OMP, INC.',\n",
       "   'Source URL': 'https://dailymed.nlm.nih.gov/dailymed/drugInfo.cfm?setid=c67b0629-5529-412d-99ee-186df4ecad5a'}},\n",
       " {'Earliest Approved Event': {'Status and Year': 'Possibly Marketed Outside US 1970',\n",
       "   'Source ID': 'Ala Quin by Crown Laboratories',\n",
       "   'Source URL': 'https://dailymed.nlm.nih.gov/dailymed/drugInfo.cfm?setid=d2ae30c6-ad64-47ed-b371-778eaebeeddf'}}]"
      ]
     },
     "execution_count": 16,
     "metadata": {},
     "output_type": "execute_result"
    }
   ],
   "source": [
    "def extract_events(identifiers):\n",
    "    data = []\n",
    "    events = []\n",
    "\n",
    "    for identifier in identifiers:\n",
    "        data = get_additional_data(identifier)\n",
    "        events.append(extract_event_details(data))\n",
    "\n",
    "    return events\n",
    "        \n",
    "extract_events(identifiers)"
   ]
  },
  {
   "cell_type": "code",
   "execution_count": 17,
   "id": "9b032612-7fdc-4e82-b776-e0c5bc88bca3",
   "metadata": {},
   "outputs": [
    {
     "name": "stdout",
     "output_type": "stream",
     "text": [
      "(['Bacillus cereus infection'], ['Basic research'])\n",
      "(['Dry, itchy skin', 'Respiratory distress syndrome, neonatal'], ['Approved', 'Approved'])\n",
      "(['SUNBURN'], ['Approved'])\n"
     ]
    }
   ],
   "source": [
    "def extract_conditions(identifiers):\n",
    "    conditions = []\n",
    "\n",
    "    for identifier in identifiers:\n",
    "        data = get_additional_data(identifier)\n",
    "        print(extract_conditions_and_phases(data))\n",
    "        \n",
    "extract_conditions(identifiers)"
   ]
  },
  {
   "cell_type": "code",
   "execution_count": null,
   "id": "99137f97-fca1-462c-ae3d-343c5d711618",
   "metadata": {},
   "outputs": [],
   "source": []
  }
 ],
 "metadata": {
  "kernelspec": {
   "display_name": "Python 3 (ipykernel)",
   "language": "python",
   "name": "python3"
  },
  "language_info": {
   "codemirror_mode": {
    "name": "ipython",
    "version": 3
   },
   "file_extension": ".py",
   "mimetype": "text/x-python",
   "name": "python",
   "nbconvert_exporter": "python",
   "pygments_lexer": "ipython3",
   "version": "3.11.7"
  }
 },
 "nbformat": 4,
 "nbformat_minor": 5
}
