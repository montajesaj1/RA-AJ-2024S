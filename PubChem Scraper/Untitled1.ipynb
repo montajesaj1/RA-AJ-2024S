{
 "cells": [
  {
   "cell_type": "code",
   "execution_count": 5,
   "id": "73140460-2ead-4338-8f47-4951a92beee2",
   "metadata": {},
   "outputs": [
    {
     "name": "stdout",
     "output_type": "stream",
     "text": [
      "The CSV files are identical.\n"
     ]
    }
   ],
   "source": [
    "import csv\n",
    "\n",
    "def compare_csv(file1, file2):\n",
    "    with open(file1, 'r') as f1, open(file2, 'r') as f2:\n",
    "        reader1 = csv.reader(f1)\n",
    "        reader2 = csv.reader(f2)\n",
    "\n",
    "        for row1, row2 in zip(reader1, reader2):\n",
    "            if row1 != row2:\n",
    "                return False\n",
    "\n",
    "        # Check if both files have the same number of rows\n",
    "        if len(list(reader1)) != len(list(reader2)):\n",
    "            return False\n",
    "\n",
    "    return True\n",
    "\n",
    "# Example usage\n",
    "file1 = 'corrected_pubchem_data_final_2.csv'\n",
    "file2 = 'corrected_pubchem_data_final.csv'\n",
    "\n",
    "if compare_csv(file1, file2):\n",
    "    print(\"The CSV files are identical.\")\n",
    "else:\n",
    "    print(\"The CSV files are not identical.\")"
   ]
  },
  {
   "cell_type": "code",
   "execution_count": null,
   "id": "c1c698bd-a75c-4024-9355-a57cd581f22b",
   "metadata": {},
   "outputs": [],
   "source": []
  }
 ],
 "metadata": {
  "kernelspec": {
   "display_name": "Python 3 (ipykernel)",
   "language": "python",
   "name": "python3"
  },
  "language_info": {
   "codemirror_mode": {
    "name": "ipython",
    "version": 3
   },
   "file_extension": ".py",
   "mimetype": "text/x-python",
   "name": "python",
   "nbconvert_exporter": "python",
   "pygments_lexer": "ipython3",
   "version": "3.11.7"
  }
 },
 "nbformat": 4,
 "nbformat_minor": 5
}
