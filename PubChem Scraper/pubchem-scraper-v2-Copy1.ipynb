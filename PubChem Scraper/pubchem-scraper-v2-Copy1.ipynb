{
 "cells": [
  {
   "cell_type": "markdown",
   "id": "8eacc5c8-3164-4a5b-a47b-50f54aedd9ba",
   "metadata": {},
   "source": [
    "# Libraries"
   ]
  },
  {
   "cell_type": "code",
   "execution_count": 1,
   "id": "23aa6e7d-705e-41fe-95b6-3c64f0e8298b",
   "metadata": {},
   "outputs": [],
   "source": [
    "import selenium \n",
    "import csv\n",
    "import re\n",
    "import pandas as pd\n",
    "\n",
    "from selenium import webdriver\n",
    "from selenium.webdriver.common.keys import Keys\n",
    "from selenium.webdriver.common.by import By\n",
    "from selenium.webdriver.chrome.service import Service\n",
    "from webdriver_manager.chrome import ChromeDriverManager\n",
    "from selenium.webdriver.support.ui import WebDriverWait\n",
    "from selenium.webdriver.support import expected_conditions as EC\n",
    "from selenium.common.exceptions import NoSuchElementException, TimeoutException\n",
    "from selenium.webdriver.chrome.options import Options\n",
    "\n",
    "import time"
   ]
  },
  {
   "cell_type": "markdown",
   "id": "76a5d544-bf3d-4684-89c9-3d32fb44796f",
   "metadata": {},
   "source": [
    "# Parser\n",
    "- Convert original non-queryable names to queryable."
   ]
  },
  {
   "cell_type": "code",
   "execution_count": 2,
   "id": "00c0de47-2e94-4998-b13f-5592741d1c2d",
   "metadata": {
    "editable": true,
    "slideshow": {
     "slide_type": ""
    },
    "tags": []
   },
   "outputs": [
    {
     "data": {
      "text/html": [
       "<div>\n",
       "<style scoped>\n",
       "    .dataframe tbody tr th:only-of-type {\n",
       "        vertical-align: middle;\n",
       "    }\n",
       "\n",
       "    .dataframe tbody tr th {\n",
       "        vertical-align: top;\n",
       "    }\n",
       "\n",
       "    .dataframe thead th {\n",
       "        text-align: right;\n",
       "    }\n",
       "</style>\n",
       "<table border=\"1\" class=\"dataframe\">\n",
       "  <thead>\n",
       "    <tr style=\"text-align: right;\">\n",
       "      <th></th>\n",
       "      <th>updated_molecule</th>\n",
       "    </tr>\n",
       "  </thead>\n",
       "  <tbody>\n",
       "    <tr>\n",
       "      <th>0</th>\n",
       "      <td>FIBRINOGEN</td>\n",
       "    </tr>\n",
       "  </tbody>\n",
       "</table>\n",
       "</div>"
      ],
      "text/plain": [
       "  updated_molecule\n",
       "0       FIBRINOGEN"
      ]
     },
     "execution_count": 2,
     "metadata": {},
     "output_type": "execute_result"
    }
   ],
   "source": [
    "molecules_arr = ['FIBRINOGEN']\n",
    "\n",
    "pattern = re.compile(r'(\\d)-(\\d)')\n",
    "pattern2 = re.compile(r'_')\n",
    "pattern3 = re.compile(r'(\\d)-([a-zA-Z])')\n",
    "\n",
    "# List to store updated molecule names\n",
    "updated_molecules_arr = []\n",
    "\n",
    "for molecule in molecules_arr:\n",
    "    updated_molecule = pattern.sub(r'\\1,\\2', molecule)\n",
    "    updated_molecule = pattern2.sub(r' ', updated_molecule)\n",
    "    updated_molecule = pattern3.sub(r'\\1 \\2', updated_molecule)\n",
    "    updated_molecules_arr.append(updated_molecule)\n",
    "\n",
    "updated_molecules_df = pd.DataFrame(updated_molecules_arr, columns=['updated_molecule'])\n",
    "updated_molecules_df"
   ]
  },
  {
   "cell_type": "markdown",
   "id": "fdfee982-d779-402d-98d3-d38bb4a43517",
   "metadata": {},
   "source": [
    "# PubChem Query Result Scraper"
   ]
  },
  {
   "cell_type": "code",
   "execution_count": 3,
   "id": "71f3ed7b-d96d-4f4c-947a-b4e1d4bf056c",
   "metadata": {},
   "outputs": [],
   "source": [
    "def get_pubchem_url(chemical):\n",
    "    return f'https://pubchem.ncbi.nlm.nih.gov/#query={chemical}'\n",
    "\n",
    "def setup_webdriver():\n",
    "    chrome_options = Options()\n",
    "    chrome_options.add_argument(\"--headless\")\n",
    "    service = Service(ChromeDriverManager().install())\n",
    "    driver = webdriver.Chrome(service=service, options=chrome_options)\n",
    "    return driver\n",
    "\n",
    "def get_best_match(molecule, driver):\n",
    "    url = \"N/A\"  # Default in case of failure\n",
    "    result_type = \"Not Found\"  # Default result type\n",
    "\n",
    "    driver.get(get_pubchem_url(molecule))\n",
    "    try:\n",
    "        WebDriverWait(driver, 3).until(EC.visibility_of_element_located((By.CSS_SELECTOR, 'a[data-action=\"featured-result-link\"], a[data-action=\"result-link\"]')))\n",
    "        elements = driver.find_elements(By.CSS_SELECTOR, 'a[data-action=\"featured-result-link\"], a[data-action=\"result-link\"]')\n",
    "        if elements:\n",
    "            element = elements[0]\n",
    "            url = element.get_attribute('href')\n",
    "            action = element.get_attribute('data-action')\n",
    "            if action == 'featured-result-link':\n",
    "                result_type = 'FEATURED'\n",
    "            else:\n",
    "                result_type = 'RELEVANT'\n",
    "    except (NoSuchElementException, TimeoutException):\n",
    "        pass  # URL remains \"N/A\" and result_type remains \"Not Found\" if no match is found or if there's a timeout\n",
    "\n",
    "    return molecule, url, result_type\n",
    "\n",
    "def get_best_matches(parsed_molecules):\n",
    "    best_matches = []\n",
    "    driver = setup_webdriver()  # Initialize the WebDriver once\n",
    "    try:\n",
    "        for parsed_molecule in parsed_molecules:\n",
    "            molecule, url, result_type = get_best_match(parsed_molecule, driver)\n",
    "            best_matches.append((molecule, url, result_type))\n",
    "    finally:\n",
    "        driver.quit()  # Make sure to quit the WebDriver\n",
    "\n",
    "    return best_matches"
   ]
  },
  {
   "cell_type": "code",
   "execution_count": 4,
   "id": "1969252e-ca9d-4986-b5f3-fafb0d695d82",
   "metadata": {},
   "outputs": [],
   "source": [
    "best_matches = get_best_matches(updated_molecules_arr)"
   ]
  },
  {
   "cell_type": "code",
   "execution_count": 5,
   "id": "1f043ce1-e6e3-41cb-93b4-6f525c52b15d",
   "metadata": {},
   "outputs": [],
   "source": [
    "df = pd.DataFrame(best_matches, columns=['Molecule', 'Link', 'Result Type'])"
   ]
  },
  {
   "cell_type": "code",
   "execution_count": 6,
   "id": "dcfbb2ac-a195-4ef4-9eb6-068c462f56d1",
   "metadata": {
    "editable": true,
    "slideshow": {
     "slide_type": ""
    },
    "tags": []
   },
   "outputs": [
    {
     "data": {
      "text/html": [
       "<div>\n",
       "<style scoped>\n",
       "    .dataframe tbody tr th:only-of-type {\n",
       "        vertical-align: middle;\n",
       "    }\n",
       "\n",
       "    .dataframe tbody tr th {\n",
       "        vertical-align: top;\n",
       "    }\n",
       "\n",
       "    .dataframe thead th {\n",
       "        text-align: right;\n",
       "    }\n",
       "</style>\n",
       "<table border=\"1\" class=\"dataframe\">\n",
       "  <thead>\n",
       "    <tr style=\"text-align: right;\">\n",
       "      <th></th>\n",
       "      <th>Molecule</th>\n",
       "      <th>Link</th>\n",
       "      <th>Result Type</th>\n",
       "    </tr>\n",
       "  </thead>\n",
       "  <tbody>\n",
       "    <tr>\n",
       "      <th>0</th>\n",
       "      <td>FIBRINOGEN</td>\n",
       "      <td>https://pubchem.ncbi.nlm.nih.gov/compound/90540</td>\n",
       "      <td>FEATURED</td>\n",
       "    </tr>\n",
       "  </tbody>\n",
       "</table>\n",
       "</div>"
      ],
      "text/plain": [
       "     Molecule                                             Link Result Type\n",
       "0  FIBRINOGEN  https://pubchem.ncbi.nlm.nih.gov/compound/90540    FEATURED"
      ]
     },
     "execution_count": 6,
     "metadata": {},
     "output_type": "execute_result"
    }
   ],
   "source": [
    "df"
   ]
  },
  {
   "cell_type": "code",
   "execution_count": 9,
   "id": "b54c4fcf-9d86-41f0-a1d5-64bb86710b4f",
   "metadata": {
    "editable": true,
    "slideshow": {
     "slide_type": ""
    },
    "tags": []
   },
   "outputs": [
    {
     "data": {
      "text/html": [
       "<div>\n",
       "<style scoped>\n",
       "    .dataframe tbody tr th:only-of-type {\n",
       "        vertical-align: middle;\n",
       "    }\n",
       "\n",
       "    .dataframe tbody tr th {\n",
       "        vertical-align: top;\n",
       "    }\n",
       "\n",
       "    .dataframe thead th {\n",
       "        text-align: right;\n",
       "    }\n",
       "</style>\n",
       "<table border=\"1\" class=\"dataframe\">\n",
       "  <thead>\n",
       "    <tr style=\"text-align: right;\">\n",
       "      <th></th>\n",
       "      <th>Molecule</th>\n",
       "      <th>Link</th>\n",
       "      <th>Result Type</th>\n",
       "    </tr>\n",
       "  </thead>\n",
       "  <tbody>\n",
       "    <tr>\n",
       "      <th>0</th>\n",
       "      <td>FIBRINOGEN</td>\n",
       "      <td>https://pubchem.ncbi.nlm.nih.gov/compound/90540</td>\n",
       "      <td>FEATURED</td>\n",
       "    </tr>\n",
       "  </tbody>\n",
       "</table>\n",
       "</div>"
      ],
      "text/plain": [
       "     Molecule                                             Link Result Type\n",
       "0  FIBRINOGEN  https://pubchem.ncbi.nlm.nih.gov/compound/90540    FEATURED"
      ]
     },
     "execution_count": 9,
     "metadata": {},
     "output_type": "execute_result"
    }
   ],
   "source": [
    "# df_merged = pd.concat([molecules_df, df], ignore_index=True, sort=False, axis=1)\n",
    "df_merged = df\n",
    "df_merged.columns = ['Molecule', 'Link', 'Result Type']\n",
    "df_merged"
   ]
  },
  {
   "cell_type": "code",
   "execution_count": 10,
   "id": "b4c4f657-e9ce-49b7-9d44-a861027de618",
   "metadata": {
    "editable": true,
    "slideshow": {
     "slide_type": ""
    },
    "tags": []
   },
   "outputs": [],
   "source": [
    "df_merged_csv = df_merged.to_csv('FINAL_MOLECULE_LINKS.csv', index = False) "
   ]
  },
  {
   "cell_type": "code",
   "execution_count": 11,
   "id": "a589714d-4057-4147-8ee9-cc79bb718afc",
   "metadata": {
    "editable": true,
    "scrolled": true,
    "slideshow": {
     "slide_type": ""
    },
    "tags": []
   },
   "outputs": [
    {
     "data": {
      "text/plain": [
       "['https://pubchem.ncbi.nlm.nih.gov/compound/90540']"
      ]
     },
     "execution_count": 11,
     "metadata": {},
     "output_type": "execute_result"
    }
   ],
   "source": [
    "links_arr = df_merged[\"Link\"].tolist()\n",
    "links_arr"
   ]
  },
  {
   "cell_type": "markdown",
   "id": "5a0e34f8-83b4-4b1e-b42d-e7c7ac9ea228",
   "metadata": {},
   "source": [
    "# PubChem CAS Scraper"
   ]
  },
  {
   "cell_type": "code",
   "execution_count": 12,
   "id": "ae905217-56fd-46c9-92db-fb1e8ea1178d",
   "metadata": {
    "editable": true,
    "slideshow": {
     "slide_type": ""
    },
    "tags": []
   },
   "outputs": [],
   "source": [
    "from concurrent.futures import ThreadPoolExecutor, as_completed\n",
    "\n",
    "def get_cas_numbers(link, driver):\n",
    "    cas_numbers = {\"CAS\": \"N/A\", \"Deprecated CAS\": \"N/A\"}  # Default in case of failure\n",
    "\n",
    "    try:\n",
    "        driver.get(link)\n",
    "        # Wait and locate the CAS number section\n",
    "        try:\n",
    "            cas_elements = WebDriverWait(driver, 3).until(EC.visibility_of_all_elements_located((By.CSS_SELECTOR, 'section#CAS div.break-words')))\n",
    "            cas_numbers[\"CAS\"] = ', '.join([el.text.strip() for el in cas_elements])\n",
    "        except (NoSuchElementException, TimeoutException):\n",
    "            cas_numbers[\"CAS\"] = \"N/A\"  # CAS number not found\n",
    "\n",
    "        # Wait and locate the Deprecated CAS number section, if present\n",
    "        try:\n",
    "            deprecated_cas_elements = driver.find_elements(By.CSS_SELECTOR, 'section#Deprecated-CAS div.break-words')\n",
    "            # deprecated_cas_elements = WebDriverWait(driver, 3).until(EC.visibility_of_all_elements_located((By.CSS_SELECTOR, 'section#Deprecated-CAS div.break-words')))\n",
    "            cas_numbers[\"Deprecated CAS\"] = ', '.join([el.text.strip() for el in deprecated_cas_elements])\n",
    "            \n",
    "        except (NoSuchElementException, TimeoutException):\n",
    "            cas_numbers[\"Deprecated CAS\"] = \"N/A\"  # Deprecated CAS number not found\n",
    "            \n",
    "    except Exception as e:\n",
    "        print(f\"Error retrieving CAS numbers for {link}: {e}\")\n",
    "\n",
    "    return cas_numbers\n",
    "\n",
    "def get_cas_numbers_concurrently(links):\n",
    "    cas_matches = []\n",
    "    driver = setup_webdriver()  # Initialize the WebDriver once\n",
    "\n",
    "    try:\n",
    "        for link in links:\n",
    "            cas_matches.append(get_cas_numbers(link, driver))\n",
    "\n",
    "    finally:\n",
    "        driver.quit()  # Make sure to quit the WebDriver\n",
    "\n",
    "    return cas_matches      "
   ]
  },
  {
   "cell_type": "code",
   "execution_count": 13,
   "id": "1be9d82c-d508-46a6-9365-3503e5de9317",
   "metadata": {
    "editable": true,
    "slideshow": {
     "slide_type": ""
    },
    "tags": []
   },
   "outputs": [],
   "source": [
    "cas_numbers = get_cas_numbers_concurrently(links_arr)"
   ]
  },
  {
   "cell_type": "code",
   "execution_count": 14,
   "id": "72d68d49-d06e-4dd0-a8b5-3d6c13334997",
   "metadata": {},
   "outputs": [
    {
     "data": {
      "text/html": [
       "<div>\n",
       "<style scoped>\n",
       "    .dataframe tbody tr th:only-of-type {\n",
       "        vertical-align: middle;\n",
       "    }\n",
       "\n",
       "    .dataframe tbody tr th {\n",
       "        vertical-align: top;\n",
       "    }\n",
       "\n",
       "    .dataframe thead th {\n",
       "        text-align: right;\n",
       "    }\n",
       "</style>\n",
       "<table border=\"1\" class=\"dataframe\">\n",
       "  <thead>\n",
       "    <tr style=\"text-align: right;\">\n",
       "      <th></th>\n",
       "      <th>CAS</th>\n",
       "      <th>Deprecated CAS</th>\n",
       "    </tr>\n",
       "  </thead>\n",
       "  <tbody>\n",
       "    <tr>\n",
       "      <th>0</th>\n",
       "      <td>25878-23-3, 24557-79-7</td>\n",
       "      <td></td>\n",
       "    </tr>\n",
       "  </tbody>\n",
       "</table>\n",
       "</div>"
      ],
      "text/plain": [
       "                      CAS Deprecated CAS\n",
       "0  25878-23-3, 24557-79-7               "
      ]
     },
     "execution_count": 14,
     "metadata": {},
     "output_type": "execute_result"
    }
   ],
   "source": [
    "df_cas = pd.DataFrame(cas_numbers, columns=['CAS', 'Deprecated CAS'])\n",
    "df_cas"
   ]
  },
  {
   "cell_type": "markdown",
   "id": "45b5d5d1-e4d7-4923-9bc1-a0afbf3054c8",
   "metadata": {},
   "source": [
    "# Combining Molecule Links Dataframe with CAS Dataframe"
   ]
  },
  {
   "cell_type": "code",
   "execution_count": null,
   "id": "c1ee6121-50b7-47e4-93fd-706b1dc9ac20",
   "metadata": {
    "editable": true,
    "slideshow": {
     "slide_type": ""
    },
    "tags": []
   },
   "outputs": [],
   "source": [
    "final_df = pd.concat([df_merged, df_cas], ignore_index=True, sort=False, axis=1)"
   ]
  },
  {
   "cell_type": "code",
   "execution_count": null,
   "id": "80e72128-0e18-47e9-8552-f65df6b21099",
   "metadata": {
    "editable": true,
    "slideshow": {
     "slide_type": ""
    },
    "tags": []
   },
   "outputs": [],
   "source": [
    "final_df"
   ]
  },
  {
   "cell_type": "code",
   "execution_count": null,
   "id": "10033943-5f6f-46c6-ae69-91511f41dcfc",
   "metadata": {},
   "outputs": [],
   "source": [
    "final_df.columns=['Original Molecule', 'Parsed Molecule', 'Link', 'Result Type', 'CAS', 'Deprecated CAS']"
   ]
  },
  {
   "cell_type": "markdown",
   "id": "35b6fed2-bce5-406d-b918-e27d3ca84204",
   "metadata": {},
   "source": [
    "# Flagging Compound Types"
   ]
  },
  {
   "cell_type": "code",
   "execution_count": null,
   "id": "a507e1b6-ae6a-45c1-91b0-b746b8c10e57",
   "metadata": {},
   "outputs": [],
   "source": [
    "final_df['Compound/Substance'] = final_df['Link'].apply(lambda x: 'COMPOUND' if 'compound' in str(x) else ('SUBSTANCE' if 'substance' in str(x) else 'N/A'))"
   ]
  },
  {
   "cell_type": "code",
   "execution_count": null,
   "id": "4b76c905-6341-4ee2-b191-8d16da5e9a8e",
   "metadata": {
    "scrolled": true
   },
   "outputs": [],
   "source": [
    "final_df"
   ]
  },
  {
   "cell_type": "markdown",
   "id": "39adc366-2d4b-42ce-b298-a9d83bafb715",
   "metadata": {},
   "source": [
    "# Export Dataframe as CSV"
   ]
  },
  {
   "cell_type": "code",
   "execution_count": null,
   "id": "9d8e42ea-7123-4717-8032-96567adcb10d",
   "metadata": {
    "editable": true,
    "slideshow": {
     "slide_type": ""
    },
    "tags": []
   },
   "outputs": [],
   "source": [
    "final_df_csv = final_df.to_csv('scraped_pubchem_data_final.csv', index = False) "
   ]
  }
 ],
 "metadata": {
  "kernelspec": {
   "display_name": "Python 3 (ipykernel)",
   "language": "python",
   "name": "python3"
  },
  "language_info": {
   "codemirror_mode": {
    "name": "ipython",
    "version": 3
   },
   "file_extension": ".py",
   "mimetype": "text/x-python",
   "name": "python",
   "nbconvert_exporter": "python",
   "pygments_lexer": "ipython3",
   "version": "3.11.7"
  }
 },
 "nbformat": 4,
 "nbformat_minor": 5
}
