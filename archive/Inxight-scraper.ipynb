{
 "cells": [
  {
   "cell_type": "markdown",
   "id": "c229568b-2c86-4650-baa8-1c599353e36d",
   "metadata": {},
   "source": [
    "# Libraries"
   ]
  },
  {
   "cell_type": "code",
   "execution_count": 1,
   "id": "43dd156c-a904-4f99-b4b1-b0ecfb151f9e",
   "metadata": {},
   "outputs": [],
   "source": [
    "import selenium \n",
    "import csv\n",
    "import re\n",
    "import pandas as pd\n",
    "\n",
    "from selenium import webdriver\n",
    "from selenium.webdriver.common.keys import Keys\n",
    "from selenium.webdriver.common.by import By\n",
    "from selenium.webdriver.chrome.service import Service\n",
    "from webdriver_manager.chrome import ChromeDriverManager\n",
    "from selenium.webdriver.support.ui import WebDriverWait\n",
    "from selenium.webdriver.support import expected_conditions as EC\n",
    "from selenium.common.exceptions import NoSuchElementException, TimeoutException\n",
    "from selenium.webdriver.chrome.options import Options\n",
    "\n",
    "import time"
   ]
  },
  {
   "cell_type": "code",
   "execution_count": 2,
   "id": "6c9cebd8-3d14-4ca4-a3a6-64623b63506a",
   "metadata": {},
   "outputs": [],
   "source": [
    "def setup_webdriver():\n",
    "    chrome_options = Options()\n",
    "    chrome_options.add_argument(\"--headless\")\n",
    "    service = Service(ChromeDriverManager().install())\n",
    "    driver = webdriver.Chrome(service=service, options=chrome_options)\n",
    "    return driver\n",
    "\n",
    "def url_inxight(cas):\n",
    "    return f\"https://drugs.ncats.io/substances?q={cas}\""
   ]
  },
  {
   "cell_type": "code",
   "execution_count": 16,
   "id": "e3558b31-4972-4351-b54f-7412a3a62ff1",
   "metadata": {},
   "outputs": [],
   "source": [
    "def get_best_match(molecule, driver):\n",
    "    url = \"N/A\"  # Default in case of failure\n",
    "\n",
    "    driver.get(url_inxight(molecule))\n",
    "    try:\n",
    "        WebDriverWait(driver, 3).until(EC.visibility_of_element_located((By.CSS_SELECTOR, 'a[id=\"card-title\"]')))\n",
    "        elements = driver.find_elements(By.CSS_SELECTOR, 'a[id=\"card-title\"]')\n",
    "        if elements:\n",
    "            element = elements[0]\n",
    "            url = element.get_attribute('href')\n",
    "\n",
    "    except (NoSuchElementException, TimeoutException):\n",
    "        pass  \n",
    "\n",
    "    return molecule, url\n",
    "\n",
    "def get_best_matches(cas_arr):\n",
    "    best_matches = []\n",
    "    driver = setup_webdriver()  # Initialize the WebDriver once\n",
    "    try:\n",
    "        for cas in cas_arr:\n",
    "            molecule, url = get_best_match(cas, driver)\n",
    "            best_matches.append((molecule, url))\n",
    "    finally:\n",
    "        driver.quit()  # Make sure to quit the WebDriver\n",
    "\n",
    "    return best_matches"
   ]
  },
  {
   "cell_type": "code",
   "execution_count": 18,
   "id": "3d735718-1199-48f4-a39d-5376f01a90ef",
   "metadata": {},
   "outputs": [
    {
     "data": {
      "text/plain": [
       "[('1420477-60-6', 'https://drugs.ncats.io/drug/I42748ELQW')]"
      ]
     },
     "execution_count": 18,
     "metadata": {},
     "output_type": "execute_result"
    }
   ],
   "source": [
    "get_best_matches([\"1420477-60-6\"])"
   ]
  },
  {
   "cell_type": "code",
   "execution_count": 11,
   "id": "4c37c7f5-d6da-4476-a801-f5d62a678adb",
   "metadata": {},
   "outputs": [
    {
     "ename": "SyntaxError",
     "evalue": "invalid syntax (3159190243.py, line 1)",
     "output_type": "error",
     "traceback": [
      "\u001b[0;36m  Cell \u001b[0;32mIn[11], line 1\u001b[0;36m\u001b[0m\n\u001b[0;31m    https://drugs.ncats.io/substances?q=623-84-7\u001b[0m\n\u001b[0m          ^\u001b[0m\n\u001b[0;31mSyntaxError\u001b[0m\u001b[0;31m:\u001b[0m invalid syntax\n"
     ]
    }
   ],
   "source": [
    "https://drugs.ncats.io/substances?q=623-84-7"
   ]
  },
  {
   "cell_type": "code",
   "execution_count": null,
   "id": "f4924701-89ce-4028-93c9-b8ec2eac134e",
   "metadata": {},
   "outputs": [],
   "source": [
    "<a id=\"card-title\" href=\"\n",
    "\t\n",
    "\t/drug/5Z492UNF9O\n",
    "\" uib-tooltip=\"View Record Details\" tooltip-placement=\"bottom-left\" target=\"_self\">\n",
    "\t\t\t\t<h3 class=\"title-name\"> \n",
    "\t            \tPROPYLENE GLYCOL DIACETATE\n",
    "\t            </h3>\n",
    "\t            <div class=\"btn btn-url font-monospace\">\n",
    "\t\t    \t\tMORE DETAILS\n",
    "\t\t    \t\t<i class=\"fa fa-arrow-circle-right\" aria-hidden=\"true\"></i>\n",
    "\t\t    \t</div>\n",
    "\t\t\t</a>"
   ]
  },
  {
   "cell_type": "code",
   "execution_count": null,
   "id": "cca109d0-7497-498b-9f3c-262b79e5b5cb",
   "metadata": {},
   "outputs": [],
   "source": []
  }
 ],
 "metadata": {
  "kernelspec": {
   "display_name": "Python 3 (ipykernel)",
   "language": "python",
   "name": "python3"
  },
  "language_info": {
   "codemirror_mode": {
    "name": "ipython",
    "version": 3
   },
   "file_extension": ".py",
   "mimetype": "text/x-python",
   "name": "python",
   "nbconvert_exporter": "python",
   "pygments_lexer": "ipython3",
   "version": "3.11.7"
  }
 },
 "nbformat": 4,
 "nbformat_minor": 5
}
