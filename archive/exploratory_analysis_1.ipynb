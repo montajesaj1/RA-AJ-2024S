{
 "cells": [
  {
   "cell_type": "markdown",
   "id": "f686b17a-84ed-4314-a7c3-97c19f83392e",
   "metadata": {},
   "source": [
    "# Summary of Scraped Data"
   ]
  },
  {
   "cell_type": "code",
   "execution_count": 1,
   "id": "a75f920f-8f1f-43bb-84e0-8b16c5b466ea",
   "metadata": {},
   "outputs": [],
   "source": [
    "import pandas as pd"
   ]
  },
  {
   "cell_type": "code",
   "execution_count": 2,
   "id": "b1c2eebd-8e29-4f62-82f1-4ed75e7bf808",
   "metadata": {
    "editable": true,
    "slideshow": {
     "slide_type": ""
    },
    "tags": []
   },
   "outputs": [],
   "source": [
    "pharm_df = pd.read_csv(\"scraped_pubchem_data_final.csv\")"
   ]
  },
  {
   "cell_type": "code",
   "execution_count": 3,
   "id": "7d843ddd-de8f-4dc9-853b-34b680d43d97",
   "metadata": {
    "editable": true,
    "slideshow": {
     "slide_type": ""
    },
    "tags": []
   },
   "outputs": [
    {
     "data": {
      "text/html": [
       "<div>\n",
       "<style scoped>\n",
       "    .dataframe tbody tr th:only-of-type {\n",
       "        vertical-align: middle;\n",
       "    }\n",
       "\n",
       "    .dataframe tbody tr th {\n",
       "        vertical-align: top;\n",
       "    }\n",
       "\n",
       "    .dataframe thead th {\n",
       "        text-align: right;\n",
       "    }\n",
       "</style>\n",
       "<table border=\"1\" class=\"dataframe\">\n",
       "  <thead>\n",
       "    <tr style=\"text-align: right;\">\n",
       "      <th></th>\n",
       "      <th>Original Molecule</th>\n",
       "      <th>Parsed Molecule</th>\n",
       "      <th>Link</th>\n",
       "      <th>Result Type</th>\n",
       "      <th>CAS</th>\n",
       "      <th>Deprecated CAS</th>\n",
       "      <th>Compound/Substance</th>\n",
       "    </tr>\n",
       "  </thead>\n",
       "  <tbody>\n",
       "    <tr>\n",
       "      <th>count</th>\n",
       "      <td>2418</td>\n",
       "      <td>2418</td>\n",
       "      <td>2418</td>\n",
       "      <td>2418</td>\n",
       "      <td>2303</td>\n",
       "      <td>1060</td>\n",
       "      <td>2418</td>\n",
       "    </tr>\n",
       "    <tr>\n",
       "      <th>unique</th>\n",
       "      <td>2418</td>\n",
       "      <td>2418</td>\n",
       "      <td>2329</td>\n",
       "      <td>2</td>\n",
       "      <td>2208</td>\n",
       "      <td>978</td>\n",
       "      <td>1</td>\n",
       "    </tr>\n",
       "    <tr>\n",
       "      <th>top</th>\n",
       "      <td>1-2-PROPANEDIOL_DIACETATE</td>\n",
       "      <td>1,2 PROPANEDIOL DIACETATE</td>\n",
       "      <td>https://pubchem.ncbi.nlm.nih.gov/compound/702</td>\n",
       "      <td>FEATURED</td>\n",
       "      <td>64-17-5</td>\n",
       "      <td>121182-78-3, 8000-16-6, 8024-45-1, 8024-45-1, ...</td>\n",
       "      <td>COMPOUND</td>\n",
       "    </tr>\n",
       "    <tr>\n",
       "      <th>freq</th>\n",
       "      <td>1</td>\n",
       "      <td>1</td>\n",
       "      <td>10</td>\n",
       "      <td>2236</td>\n",
       "      <td>10</td>\n",
       "      <td>10</td>\n",
       "      <td>2418</td>\n",
       "    </tr>\n",
       "  </tbody>\n",
       "</table>\n",
       "</div>"
      ],
      "text/plain": [
       "                Original Molecule            Parsed Molecule  \\\n",
       "count                        2418                       2418   \n",
       "unique                       2418                       2418   \n",
       "top     1-2-PROPANEDIOL_DIACETATE  1,2 PROPANEDIOL DIACETATE   \n",
       "freq                            1                          1   \n",
       "\n",
       "                                                 Link Result Type      CAS  \\\n",
       "count                                            2418        2418     2303   \n",
       "unique                                           2329           2     2208   \n",
       "top     https://pubchem.ncbi.nlm.nih.gov/compound/702    FEATURED  64-17-5   \n",
       "freq                                               10        2236       10   \n",
       "\n",
       "                                           Deprecated CAS Compound/Substance  \n",
       "count                                                1060               2418  \n",
       "unique                                                978                  1  \n",
       "top     121182-78-3, 8000-16-6, 8024-45-1, 8024-45-1, ...           COMPOUND  \n",
       "freq                                                   10               2418  "
      ]
     },
     "execution_count": 3,
     "metadata": {},
     "output_type": "execute_result"
    }
   ],
   "source": [
    "compound_df = pharm_df[pharm_df[\"Compound/Substance\"] == \"COMPOUND\"]\n",
    "compound_df.describe()"
   ]
  },
  {
   "cell_type": "code",
   "execution_count": 1,
   "id": "7d9a64e8-09c3-4aac-8a87-f11cdb942628",
   "metadata": {},
   "outputs": [
    {
     "ename": "NameError",
     "evalue": "name 'pharm_df' is not defined",
     "output_type": "error",
     "traceback": [
      "\u001b[0;31m---------------------------------------------------------------------------\u001b[0m",
      "\u001b[0;31mNameError\u001b[0m                                 Traceback (most recent call last)",
      "Cell \u001b[0;32mIn[1], line 1\u001b[0m\n\u001b[0;32m----> 1\u001b[0m substance_df \u001b[38;5;241m=\u001b[39m \u001b[43mpharm_df\u001b[49m[pharm_df[\u001b[38;5;124m\"\u001b[39m\u001b[38;5;124mCompound/Substance\u001b[39m\u001b[38;5;124m\"\u001b[39m] \u001b[38;5;241m==\u001b[39m \u001b[38;5;124m\"\u001b[39m\u001b[38;5;124mNO\u001b[39m\u001b[38;5;124m\"\u001b[39m]\n\u001b[1;32m      2\u001b[0m substance_df\u001b[38;5;241m.\u001b[39mdescribe()\n",
      "\u001b[0;31mNameError\u001b[0m: name 'pharm_df' is not defined"
     ]
    }
   ],
   "source": [
    "substance_df = pharm_df[pharm_df[\"Compound/Substance\"] == \"SUBSTANCE\"]\n",
    "substance_df.describe()"
   ]
  },
  {
   "cell_type": "code",
   "execution_count": 5,
   "id": "8b2b45e3-891d-4ab2-8c3f-cd41c6398d79",
   "metadata": {
    "editable": true,
    "slideshow": {
     "slide_type": ""
    },
    "tags": []
   },
   "outputs": [
    {
     "data": {
      "text/html": [
       "<div>\n",
       "<style scoped>\n",
       "    .dataframe tbody tr th:only-of-type {\n",
       "        vertical-align: middle;\n",
       "    }\n",
       "\n",
       "    .dataframe tbody tr th {\n",
       "        vertical-align: top;\n",
       "    }\n",
       "\n",
       "    .dataframe thead th {\n",
       "        text-align: right;\n",
       "    }\n",
       "</style>\n",
       "<table border=\"1\" class=\"dataframe\">\n",
       "  <thead>\n",
       "    <tr style=\"text-align: right;\">\n",
       "      <th></th>\n",
       "      <th>Original Molecule</th>\n",
       "      <th>Parsed Molecule</th>\n",
       "      <th>Link</th>\n",
       "      <th>Result Type</th>\n",
       "      <th>CAS</th>\n",
       "      <th>Deprecated CAS</th>\n",
       "      <th>Compound/Substance</th>\n",
       "    </tr>\n",
       "  </thead>\n",
       "  <tbody>\n",
       "    <tr>\n",
       "      <th>count</th>\n",
       "      <td>164</td>\n",
       "      <td>164</td>\n",
       "      <td>115</td>\n",
       "      <td>164</td>\n",
       "      <td>0</td>\n",
       "      <td>0</td>\n",
       "      <td>0</td>\n",
       "    </tr>\n",
       "    <tr>\n",
       "      <th>unique</th>\n",
       "      <td>164</td>\n",
       "      <td>164</td>\n",
       "      <td>114</td>\n",
       "      <td>3</td>\n",
       "      <td>0</td>\n",
       "      <td>0</td>\n",
       "      <td>0</td>\n",
       "    </tr>\n",
       "    <tr>\n",
       "      <th>top</th>\n",
       "      <td>2-3-(2-IODOPROPYLIDENEDIOXY)PROPANOL</td>\n",
       "      <td>2,3-(2 IODOPROPYLIDENEDIOXY)PROPANOL</td>\n",
       "      <td>https://pubmed.ncbi.nlm.nih.gov/10292123</td>\n",
       "      <td>RELEVANT</td>\n",
       "      <td>NaN</td>\n",
       "      <td>NaN</td>\n",
       "      <td>NaN</td>\n",
       "    </tr>\n",
       "    <tr>\n",
       "      <th>freq</th>\n",
       "      <td>1</td>\n",
       "      <td>1</td>\n",
       "      <td>2</td>\n",
       "      <td>106</td>\n",
       "      <td>NaN</td>\n",
       "      <td>NaN</td>\n",
       "      <td>NaN</td>\n",
       "    </tr>\n",
       "  </tbody>\n",
       "</table>\n",
       "</div>"
      ],
      "text/plain": [
       "                           Original Molecule  \\\n",
       "count                                    164   \n",
       "unique                                   164   \n",
       "top     2-3-(2-IODOPROPYLIDENEDIOXY)PROPANOL   \n",
       "freq                                       1   \n",
       "\n",
       "                             Parsed Molecule  \\\n",
       "count                                    164   \n",
       "unique                                   164   \n",
       "top     2,3-(2 IODOPROPYLIDENEDIOXY)PROPANOL   \n",
       "freq                                       1   \n",
       "\n",
       "                                            Link Result Type  CAS  \\\n",
       "count                                        115         164    0   \n",
       "unique                                       114           3    0   \n",
       "top     https://pubmed.ncbi.nlm.nih.gov/10292123    RELEVANT  NaN   \n",
       "freq                                           2         106  NaN   \n",
       "\n",
       "       Deprecated CAS Compound/Substance  \n",
       "count               0                  0  \n",
       "unique              0                  0  \n",
       "top               NaN                NaN  \n",
       "freq              NaN                NaN  "
      ]
     },
     "execution_count": 5,
     "metadata": {},
     "output_type": "execute_result"
    }
   ],
   "source": [
    "missing_df = pharm_df[pharm_df[\"Compound/Substance\"].isnull()]\n",
    "missing_df.describe()"
   ]
  },
  {
   "cell_type": "code",
   "execution_count": 6,
   "id": "6fd4b606-6e68-4354-966b-cd45d0643a13",
   "metadata": {},
   "outputs": [
    {
     "data": {
      "text/html": [
       "<div>\n",
       "<style scoped>\n",
       "    .dataframe tbody tr th:only-of-type {\n",
       "        vertical-align: middle;\n",
       "    }\n",
       "\n",
       "    .dataframe tbody tr th {\n",
       "        vertical-align: top;\n",
       "    }\n",
       "\n",
       "    .dataframe thead th {\n",
       "        text-align: right;\n",
       "    }\n",
       "</style>\n",
       "<table border=\"1\" class=\"dataframe\">\n",
       "  <thead>\n",
       "    <tr style=\"text-align: right;\">\n",
       "      <th></th>\n",
       "      <th>Original Molecule</th>\n",
       "      <th>Parsed Molecule</th>\n",
       "      <th>Link</th>\n",
       "      <th>Result Type</th>\n",
       "      <th>CAS</th>\n",
       "      <th>Deprecated CAS</th>\n",
       "      <th>Compound/Substance</th>\n",
       "    </tr>\n",
       "  </thead>\n",
       "  <tbody>\n",
       "    <tr>\n",
       "      <th>count</th>\n",
       "      <td>584</td>\n",
       "      <td>584</td>\n",
       "      <td>535</td>\n",
       "      <td>584</td>\n",
       "      <td>0</td>\n",
       "      <td>0</td>\n",
       "      <td>420</td>\n",
       "    </tr>\n",
       "    <tr>\n",
       "      <th>unique</th>\n",
       "      <td>584</td>\n",
       "      <td>584</td>\n",
       "      <td>519</td>\n",
       "      <td>3</td>\n",
       "      <td>0</td>\n",
       "      <td>0</td>\n",
       "      <td>2</td>\n",
       "    </tr>\n",
       "    <tr>\n",
       "      <th>top</th>\n",
       "      <td>2-3-(2-IODOPROPYLIDENEDIOXY)PROPANOL</td>\n",
       "      <td>2,3-(2 IODOPROPYLIDENEDIOXY)PROPANOL</td>\n",
       "      <td>https://pubchem.ncbi.nlm.nih.gov/substance/483...</td>\n",
       "      <td>RELEVANT</td>\n",
       "      <td>NaN</td>\n",
       "      <td>NaN</td>\n",
       "      <td>SUBSTANCE</td>\n",
       "    </tr>\n",
       "    <tr>\n",
       "      <th>freq</th>\n",
       "      <td>1</td>\n",
       "      <td>1</td>\n",
       "      <td>5</td>\n",
       "      <td>425</td>\n",
       "      <td>NaN</td>\n",
       "      <td>NaN</td>\n",
       "      <td>305</td>\n",
       "    </tr>\n",
       "  </tbody>\n",
       "</table>\n",
       "</div>"
      ],
      "text/plain": [
       "                           Original Molecule  \\\n",
       "count                                    584   \n",
       "unique                                   584   \n",
       "top     2-3-(2-IODOPROPYLIDENEDIOXY)PROPANOL   \n",
       "freq                                       1   \n",
       "\n",
       "                             Parsed Molecule  \\\n",
       "count                                    584   \n",
       "unique                                   584   \n",
       "top     2,3-(2 IODOPROPYLIDENEDIOXY)PROPANOL   \n",
       "freq                                       1   \n",
       "\n",
       "                                                     Link Result Type  CAS  \\\n",
       "count                                                 535         584    0   \n",
       "unique                                                519           3    0   \n",
       "top     https://pubchem.ncbi.nlm.nih.gov/substance/483...    RELEVANT  NaN   \n",
       "freq                                                    5         425  NaN   \n",
       "\n",
       "       Deprecated CAS Compound/Substance  \n",
       "count               0                420  \n",
       "unique              0                  2  \n",
       "top               NaN          SUBSTANCE  \n",
       "freq              NaN                305  "
      ]
     },
     "execution_count": 6,
     "metadata": {},
     "output_type": "execute_result"
    }
   ],
   "source": [
    "missing_cas_df = pharm_df[pharm_df[\"CAS\"].isnull()]\n",
    "missing_cas_df.describe()"
   ]
  },
  {
   "cell_type": "markdown",
   "id": "76e02fd1-2b41-4583-8c2a-6db31705d37b",
   "metadata": {},
   "source": [
    "## Summary:\n",
    "- There are a total of 584 molecules with missing CAS values.\n",
    "    - Of the 584, 164 are unclassified (Compound v.s. Substance).\n",
    "    - Another 305 are substances.\n",
    "    - The remaining 115 are compounds without a CAS."
   ]
  }
 ],
 "metadata": {
  "kernelspec": {
   "display_name": "Python 3 (ipykernel)",
   "language": "python",
   "name": "python3"
  },
  "language_info": {
   "codemirror_mode": {
    "name": "ipython",
    "version": 3
   },
   "file_extension": ".py",
   "mimetype": "text/x-python",
   "name": "python",
   "nbconvert_exporter": "python",
   "pygments_lexer": "ipython3",
   "version": "3.11.7"
  }
 },
 "nbformat": 4,
 "nbformat_minor": 5
}
