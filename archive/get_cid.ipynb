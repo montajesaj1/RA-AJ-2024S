{
 "cells": [
  {
   "cell_type": "markdown",
   "id": "32d15573-9b7e-4352-aeb1-b02bcc7d2066",
   "metadata": {},
   "source": [
    "# 1. Libraries"
   ]
  },
  {
   "cell_type": "code",
   "execution_count": 1,
   "id": "f4dc6af0-7ca0-48f7-81b1-259955586983",
   "metadata": {
    "editable": true,
    "slideshow": {
     "slide_type": ""
    },
    "tags": []
   },
   "outputs": [],
   "source": [
    "import pubchempy as pcp\n",
    "import csv\n",
    "import re\n",
    "import pandas as pd\n",
    "import time"
   ]
  },
  {
   "cell_type": "code",
   "execution_count": 2,
   "id": "b089ed8d-8c28-4e08-998e-f0fd7b0b3223",
   "metadata": {
    "scrolled": true
   },
   "outputs": [
    {
     "data": {
      "text/html": [
       "<div>\n",
       "<style scoped>\n",
       "    .dataframe tbody tr th:only-of-type {\n",
       "        vertical-align: middle;\n",
       "    }\n",
       "\n",
       "    .dataframe tbody tr th {\n",
       "        vertical-align: top;\n",
       "    }\n",
       "\n",
       "    .dataframe thead th {\n",
       "        text-align: right;\n",
       "    }\n",
       "</style>\n",
       "<table border=\"1\" class=\"dataframe\">\n",
       "  <thead>\n",
       "    <tr style=\"text-align: right;\">\n",
       "      <th></th>\n",
       "      <th>updated_molecule</th>\n",
       "    </tr>\n",
       "  </thead>\n",
       "  <tbody>\n",
       "    <tr>\n",
       "      <th>0</th>\n",
       "      <td>1,2-PROPANEDIOL_DIACETATE</td>\n",
       "    </tr>\n",
       "    <tr>\n",
       "      <th>1</th>\n",
       "      <td>1-HEXADECANOL</td>\n",
       "    </tr>\n",
       "    <tr>\n",
       "      <th>2</th>\n",
       "      <td>1-OCTADECANOL</td>\n",
       "    </tr>\n",
       "    <tr>\n",
       "      <th>3</th>\n",
       "      <td>2,3-(2-IODOPROPYLIDENEDIOXY)PROPANOL</td>\n",
       "    </tr>\n",
       "    <tr>\n",
       "      <th>4</th>\n",
       "      <td>2-OXOGLUTARIC_ACID</td>\n",
       "    </tr>\n",
       "    <tr>\n",
       "      <th>...</th>\n",
       "      <td>...</td>\n",
       "    </tr>\n",
       "    <tr>\n",
       "      <th>2900</th>\n",
       "      <td>ZIZYPHUS_JUJUBA</td>\n",
       "    </tr>\n",
       "    <tr>\n",
       "      <th>2901</th>\n",
       "      <td>ZOLEDRONIC_ACID</td>\n",
       "    </tr>\n",
       "    <tr>\n",
       "      <th>2902</th>\n",
       "      <td>ZOLMITRIPTAN</td>\n",
       "    </tr>\n",
       "    <tr>\n",
       "      <th>2903</th>\n",
       "      <td>ZOLPIDEM</td>\n",
       "    </tr>\n",
       "    <tr>\n",
       "      <th>2904</th>\n",
       "      <td>ZONISAMIDE</td>\n",
       "    </tr>\n",
       "  </tbody>\n",
       "</table>\n",
       "<p>2905 rows × 1 columns</p>\n",
       "</div>"
      ],
      "text/plain": [
       "                          updated_molecule\n",
       "0                1,2-PROPANEDIOL_DIACETATE\n",
       "1                            1-HEXADECANOL\n",
       "2                            1-OCTADECANOL\n",
       "3     2,3-(2-IODOPROPYLIDENEDIOXY)PROPANOL\n",
       "4                       2-OXOGLUTARIC_ACID\n",
       "...                                    ...\n",
       "2900                       ZIZYPHUS_JUJUBA\n",
       "2901                       ZOLEDRONIC_ACID\n",
       "2902                          ZOLMITRIPTAN\n",
       "2903                              ZOLPIDEM\n",
       "2904                            ZONISAMIDE\n",
       "\n",
       "[2905 rows x 1 columns]"
      ]
     },
     "execution_count": 2,
     "metadata": {},
     "output_type": "execute_result"
    }
   ],
   "source": [
    "molecules_df = pd.read_excel('data.xlsx', sheet_name = 'in')\n",
    "molecules_arr = molecules_df['molecule'].tolist()\n",
    "\n",
    "# The pattern to match: digit, dash, digit\n",
    "pattern = re.compile(r'(\\d)-(\\d)')\n",
    "\n",
    "# List to store updated molecule names\n",
    "updated_molecules_arr = []\n",
    "\n",
    "for molecule in molecules_arr:\n",
    "    # Replace '-' with ',' when between digits\n",
    "    updated_molecule = pattern.sub(r'\\1,\\2', molecule)\n",
    "    updated_molecules_arr.append(updated_molecule)\n",
    "\n",
    "# Optionally, update your DataFrame or other storage\n",
    "# Here's an example of updating a DataFrame\n",
    "updated_molecules_df = pd.DataFrame(updated_molecules_arr, columns=['updated_molecule'])\n",
    "updated_molecules_df"
   ]
  },
  {
   "cell_type": "markdown",
   "id": "bd03c13c-27a4-4954-bd6d-5743ad16c315",
   "metadata": {},
   "source": [
    "# 2. Querying the PubChem search page"
   ]
  },
  {
   "cell_type": "code",
   "execution_count": 3,
   "id": "5ad36ffd-6b67-4b58-afdc-d986e632742c",
   "metadata": {},
   "outputs": [],
   "source": [
    "def pull_item(query: str, type: str):\n",
    "    '''given a compound query string, returns CAS numbers for the compound'''\n",
    "    if type == 'c':\n",
    "        compound = pcp.get_compounds(query, 'name')\n",
    "    elif type == 's':\n",
    "        compound = pcp.get_substances(query, 'name')\n",
    "\n",
    "    aliases = compound[0].synonyms\n",
    "    \n",
    "    cas_pattern = re.compile(r\"(\\d{2,7})-(\\d{2})-(\\d)\")\n",
    "    cas_numbers = []\n",
    "\n",
    "    for alias in aliases:\n",
    "        matches = cas_pattern.findall(alias)\n",
    "\n",
    "        for match in matches:\n",
    "            cas_numbers.append('-'.join(match))\n",
    "\n",
    "    return cas_numbers"
   ]
  },
  {
   "cell_type": "code",
   "execution_count": 4,
   "id": "aa4faa1d-f17c-4495-a215-3135b9ab4a56",
   "metadata": {},
   "outputs": [],
   "source": [
    "def generate_dict(compounds):\n",
    "    '''Takes a list of compounds, retrieves all their CAS numbers and outputs them as a dictionary'''\n",
    "\n",
    "    compound_dict = {}\n",
    "    \n",
    "    for compound in compounds:\n",
    "        try:\n",
    "            compound_dict[compound] = pull_item(compound, 'c')\n",
    "        except:\n",
    "            compound_dict[compound] = \"N/A\"\n",
    "        \n",
    "    return compound_dict\n",
    "\n",
    "# generate_dict([\"aspirin\", \"EGFR\", \"C9H8O4\"])"
   ]
  },
  {
   "cell_type": "code",
   "execution_count": 5,
   "id": "e9cb5746-ffc0-40e2-a25e-4f99bba9bbf9",
   "metadata": {
    "editable": true,
    "slideshow": {
     "slide_type": ""
    },
    "tags": []
   },
   "outputs": [],
   "source": [
    "compounds = pcp.get_compounds('Aspirin', 'name')"
   ]
  },
  {
   "cell_type": "code",
   "execution_count": 6,
   "id": "d6222578-dd9d-4461-8da9-2808c70548b0",
   "metadata": {
    "editable": true,
    "slideshow": {
     "slide_type": ""
    },
    "tags": []
   },
   "outputs": [],
   "source": [
    "def pull_cid(molecules):\n",
    "    cid_arr = []\n",
    "    for molecule in molecules:\n",
    "        compounds = pcp.get_compounds({molecule}, 'name')\n",
    "        for compound in compounds:\n",
    "            cid_arr.append(compound.cid)\n",
    "    return cid_arr"
   ]
  },
  {
   "cell_type": "code",
   "execution_count": 7,
   "id": "2c2e54ab-05da-4a28-aae0-d56d680e8ef3",
   "metadata": {},
   "outputs": [
    {
     "name": "stdout",
     "output_type": "stream",
     "text": [
      "The time of execution of above program is : 10815.008878707886 ms\n"
     ]
    }
   ],
   "source": [
    "start = time.time()\n",
    "cid_arr = pull_cid(updated_molecules_arr[0:1000])\n",
    "end = time.time()\n",
    "print(\"The time of execution of above program is :\",\n",
    "      (end-start) * 10*3, \"ms\")"
   ]
  },
  {
   "cell_type": "code",
   "execution_count": 8,
   "id": "9677e130-0cae-48d1-97f0-a47035f7d6d5",
   "metadata": {
    "editable": true,
    "slideshow": {
     "slide_type": ""
    },
    "tags": []
   },
   "outputs": [
    {
     "data": {
      "text/plain": [
       "[2682, 8221, 31236, 3776, 193313, 1923, 441300, 145705876, 16131215, 46220502]"
      ]
     },
     "execution_count": 8,
     "metadata": {},
     "output_type": "execute_result"
    }
   ],
   "source": [
    "cid_arr"
   ]
  },
  {
   "cell_type": "code",
   "execution_count": null,
   "id": "74552f22-9b79-46ab-9256-9e725b520416",
   "metadata": {},
   "outputs": [],
   "source": []
  }
 ],
 "metadata": {
  "kernelspec": {
   "display_name": "Python 3 (ipykernel)",
   "language": "python",
   "name": "python3"
  },
  "language_info": {
   "codemirror_mode": {
    "name": "ipython",
    "version": 3
   },
   "file_extension": ".py",
   "mimetype": "text/x-python",
   "name": "python",
   "nbconvert_exporter": "python",
   "pygments_lexer": "ipython3",
   "version": "3.11.7"
  }
 },
 "nbformat": 4,
 "nbformat_minor": 5
}
