{
 "cells": [
  {
   "cell_type": "markdown",
   "id": "32d15573-9b7e-4352-aeb1-b02bcc7d2066",
   "metadata": {},
   "source": [
    "# 1. Libraries"
   ]
  },
  {
   "cell_type": "code",
   "execution_count": 1,
   "id": "f4dc6af0-7ca0-48f7-81b1-259955586983",
   "metadata": {},
   "outputs": [],
   "source": [
    "import pubchempy as pcp\n",
    "import csv\n",
    "import re\n",
    "import pandas as pd"
   ]
  },
  {
   "cell_type": "code",
   "execution_count": 2,
   "id": "b089ed8d-8c28-4e08-998e-f0fd7b0b3223",
   "metadata": {
    "scrolled": true
   },
   "outputs": [
    {
     "data": {
      "text/html": [
       "<div>\n",
       "<style scoped>\n",
       "    .dataframe tbody tr th:only-of-type {\n",
       "        vertical-align: middle;\n",
       "    }\n",
       "\n",
       "    .dataframe tbody tr th {\n",
       "        vertical-align: top;\n",
       "    }\n",
       "\n",
       "    .dataframe thead th {\n",
       "        text-align: right;\n",
       "    }\n",
       "</style>\n",
       "<table border=\"1\" class=\"dataframe\">\n",
       "  <thead>\n",
       "    <tr style=\"text-align: right;\">\n",
       "      <th></th>\n",
       "      <th>updated_molecule</th>\n",
       "    </tr>\n",
       "  </thead>\n",
       "  <tbody>\n",
       "    <tr>\n",
       "      <th>0</th>\n",
       "      <td>1,2 PROPANEDIOL DIACETATE</td>\n",
       "    </tr>\n",
       "    <tr>\n",
       "      <th>1</th>\n",
       "      <td>1 HEXADECANOL</td>\n",
       "    </tr>\n",
       "    <tr>\n",
       "      <th>2</th>\n",
       "      <td>1 OCTADECANOL</td>\n",
       "    </tr>\n",
       "    <tr>\n",
       "      <th>3</th>\n",
       "      <td>2,3-(2 IODOPROPYLIDENEDIOXY)PROPANOL</td>\n",
       "    </tr>\n",
       "    <tr>\n",
       "      <th>4</th>\n",
       "      <td>2 OXOGLUTARIC ACID</td>\n",
       "    </tr>\n",
       "    <tr>\n",
       "      <th>...</th>\n",
       "      <td>...</td>\n",
       "    </tr>\n",
       "    <tr>\n",
       "      <th>2900</th>\n",
       "      <td>ZIZYPHUS JUJUBA</td>\n",
       "    </tr>\n",
       "    <tr>\n",
       "      <th>2901</th>\n",
       "      <td>ZOLEDRONIC ACID</td>\n",
       "    </tr>\n",
       "    <tr>\n",
       "      <th>2902</th>\n",
       "      <td>ZOLMITRIPTAN</td>\n",
       "    </tr>\n",
       "    <tr>\n",
       "      <th>2903</th>\n",
       "      <td>ZOLPIDEM</td>\n",
       "    </tr>\n",
       "    <tr>\n",
       "      <th>2904</th>\n",
       "      <td>ZONISAMIDE</td>\n",
       "    </tr>\n",
       "  </tbody>\n",
       "</table>\n",
       "<p>2905 rows × 1 columns</p>\n",
       "</div>"
      ],
      "text/plain": [
       "                          updated_molecule\n",
       "0                1,2 PROPANEDIOL DIACETATE\n",
       "1                            1 HEXADECANOL\n",
       "2                            1 OCTADECANOL\n",
       "3     2,3-(2 IODOPROPYLIDENEDIOXY)PROPANOL\n",
       "4                       2 OXOGLUTARIC ACID\n",
       "...                                    ...\n",
       "2900                       ZIZYPHUS JUJUBA\n",
       "2901                       ZOLEDRONIC ACID\n",
       "2902                          ZOLMITRIPTAN\n",
       "2903                              ZOLPIDEM\n",
       "2904                            ZONISAMIDE\n",
       "\n",
       "[2905 rows x 1 columns]"
      ]
     },
     "execution_count": 2,
     "metadata": {},
     "output_type": "execute_result"
    }
   ],
   "source": [
    "molecules_df = pd.read_excel('data.xlsx', sheet_name = 'in')\n",
    "molecules_arr = molecules_df['molecule'].tolist()\n",
    "\n",
    "pattern = re.compile(r'(\\d)-(\\d)')\n",
    "pattern2 = re.compile(r'_')\n",
    "pattern3 = re.compile(r'(\\d)-([a-zA-Z])')\n",
    "\n",
    "# List to store updated molecule names\n",
    "updated_molecules_arr = []\n",
    "\n",
    "for molecule in molecules_arr:\n",
    "    updated_molecule = pattern.sub(r'\\1,\\2', molecule)\n",
    "    updated_molecule = pattern2.sub(r' ', updated_molecule)\n",
    "    updated_molecule = pattern3.sub(r'\\1 \\2', updated_molecule)\n",
    "    updated_molecules_arr.append(updated_molecule)\n",
    "\n",
    "updated_molecules_df = pd.DataFrame(updated_molecules_arr, columns=['updated_molecule'])\n",
    "updated_molecules_df"
   ]
  },
  {
   "cell_type": "markdown",
   "id": "bd03c13c-27a4-4954-bd6d-5743ad16c315",
   "metadata": {},
   "source": [
    "# 2. Querying the PubChem search page"
   ]
  },
  {
   "cell_type": "code",
   "execution_count": 3,
   "id": "5ad36ffd-6b67-4b58-afdc-d986e632742c",
   "metadata": {},
   "outputs": [],
   "source": [
    "def pull_item(query: str, type: str):\n",
    "    '''given a compound query string, returns CAS numbers for the compound'''\n",
    "    if type == 'c':\n",
    "        compound = pcp.get_compounds(query, 'name')\n",
    "    elif type == 's':\n",
    "        compound = pcp.get_substances(query, 'name')\n",
    "\n",
    "    aliases = compound[0].synonyms\n",
    "    \n",
    "    cas_pattern = re.compile(r\"(\\d{2,7})-(\\d{2})-(\\d)\")\n",
    "    cas_numbers = []\n",
    "\n",
    "    for alias in aliases:\n",
    "        matches = cas_pattern.findall(alias)\n",
    "\n",
    "        for match in matches:\n",
    "            cas_numbers.append('-'.join(match))\n",
    "\n",
    "    return cas_numbers"
   ]
  },
  {
   "cell_type": "code",
   "execution_count": 4,
   "id": "aa4faa1d-f17c-4495-a215-3135b9ab4a56",
   "metadata": {},
   "outputs": [],
   "source": [
    "from concurrent.futures import ThreadPoolExecutor, as_completed\n",
    "\n",
    "def pull_item_with_type(args):\n",
    "    '''Wrapper for pull_item to accept a single argument'''\n",
    "    return pull_item(*args)\n",
    "\n",
    "def generate_dict(compounds):\n",
    "    '''Takes a list of compounds, retrieves all their CAS numbers using multithreading and outputs them as a dictionary'''\n",
    "    compound_dict = {}\n",
    "    # Tuple list for each compound and type 'c'\n",
    "    tasks = [(compound, 'c') for compound in compounds]\n",
    "    \n",
    "    with ThreadPoolExecutor(max_workers=10) as executor:\n",
    "        # Submit all tasks to the executor\n",
    "        future_to_compound = {executor.submit(pull_item_with_type, task): task[0] for task in tasks}\n",
    "        \n",
    "        for future in as_completed(future_to_compound):\n",
    "            compound = future_to_compound[future]\n",
    "            try:\n",
    "                compound_dict[compound] = future.result()\n",
    "            except Exception as exc:\n",
    "                print(f\"{compound} generated an exception: {exc}\")\n",
    "                compound_dict[compound] = \"N/A\"\n",
    "                \n",
    "    return compound_dict"
   ]
  },
  {
   "cell_type": "code",
   "execution_count": 6,
   "id": "e9cb5746-ffc0-40e2-a25e-4f99bba9bbf9",
   "metadata": {},
   "outputs": [
    {
     "name": "stdout",
     "output_type": "stream",
     "text": [
      "1,2 PROPANEDIOL DIACETATE generated an exception: 'PUGREST.ServerBusy'\n"
     ]
    },
    {
     "data": {
      "text/plain": [
       "{'1,2 PROPANEDIOL DIACETATE': 'N/A'}"
      ]
     },
     "execution_count": 6,
     "metadata": {},
     "output_type": "execute_result"
    }
   ],
   "source": [
    "generate_dict([\"1,2 PROPANEDIOL DIACETATE\"])"
   ]
  },
  {
   "cell_type": "code",
   "execution_count": 11,
   "id": "d6222578-dd9d-4461-8da9-2808c70548b0",
   "metadata": {},
   "outputs": [
    {
     "data": {
      "text/plain": [
       "{'1,2-Propanediol Diacetate': 'N/A'}"
      ]
     },
     "execution_count": 11,
     "metadata": {},
     "output_type": "execute_result"
    }
   ],
   "source": [
    "def generate_dict(compounds):\n",
    "    '''Takes a list of compounds, retrieves all their CAS numbers and outputs them as a dictionary'''\n",
    "\n",
    "    compound_dict = {}\n",
    "    \n",
    "    for compound in compounds:\n",
    "        try:\n",
    "            compound_dict[compound] = pull_item(compound, 'c')\n",
    "        except:\n",
    "            compound_dict[compound] = \"N/A\"\n",
    "        \n",
    "    return compound_dict\n",
    "\n",
    "# generate_dict([\"aspirin\", \"EGFR\", \"C9H8O4\"])\n",
    "\n",
    "generate_dict([\"1,2- ropanediol Diacetate\"])"
   ]
  },
  {
   "cell_type": "code",
   "execution_count": null,
   "id": "2feb3118-1af9-463c-b7b8-2cd7abf92bf0",
   "metadata": {},
   "outputs": [],
   "source": []
  }
 ],
 "metadata": {
  "kernelspec": {
   "display_name": "Python 3 (ipykernel)",
   "language": "python",
   "name": "python3"
  },
  "language_info": {
   "codemirror_mode": {
    "name": "ipython",
    "version": 3
   },
   "file_extension": ".py",
   "mimetype": "text/x-python",
   "name": "python",
   "nbconvert_exporter": "python",
   "pygments_lexer": "ipython3",
   "version": "3.11.7"
  }
 },
 "nbformat": 4,
 "nbformat_minor": 5
}
