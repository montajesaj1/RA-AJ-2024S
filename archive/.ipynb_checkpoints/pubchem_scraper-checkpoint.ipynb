{
 "cells": [
  {
   "cell_type": "code",
   "execution_count": 1,
   "id": "f4dc6af0-7ca0-48f7-81b1-259955586983",
   "metadata": {},
   "outputs": [],
   "source": [
    "from bs4 import BeautifulSoup as bs\n",
    "import requests\n",
    "import regex as re"
   ]
  },
  {
   "cell_type": "code",
   "execution_count": null,
   "id": "e9cb5746-ffc0-40e2-a25e-4f99bba9bbf9",
   "metadata": {},
   "outputs": [],
   "source": [
    "def get_soup(query: str) -> bs:\n",
    "    '''Takes a formatted query string for a molecule, returns associated PubChem search page'''\n",
    "\n",
    "    webpage = requests.get(f\"https://pubchem.ncbi.nlm.nih.gov/#query={}\")\n",
    "\n",
    "    if webpage.status_code != 200:\n",
    "        raise Exception(\"The webpage is not reachable code: {webpage.status_code}\")\n",
    "    \n",
    "    return bs(webpage.text, \"html.parser\")"
   ]
  },
  {
   "cell_type": "code",
   "execution_count": null,
   "id": "ac6766d9-e8d4-4a69-bf33-602ca8a5827d",
   "metadata": {},
   "outputs": [],
   "source": []
  }
 ],
 "metadata": {
  "kernelspec": {
   "display_name": "Python 3 (ipykernel)",
   "language": "python",
   "name": "python3"
  },
  "language_info": {
   "codemirror_mode": {
    "name": "ipython",
    "version": 3
   },
   "file_extension": ".py",
   "mimetype": "text/x-python",
   "name": "python",
   "nbconvert_exporter": "python",
   "pygments_lexer": "ipython3",
   "version": "3.11.7"
  }
 },
 "nbformat": 4,
 "nbformat_minor": 5
}
